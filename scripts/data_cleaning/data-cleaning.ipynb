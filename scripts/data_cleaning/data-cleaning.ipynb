{
 "cells": [
  {
   "cell_type": "markdown",
   "id": "198ee95d",
   "metadata": {},
   "source": [
    "## Initialize Cleaning"
   ]
  },
  {
   "cell_type": "markdown",
   "id": "7138082b-80dd-4607-97a2-8d5d1c70d8fe",
   "metadata": {},
   "source": [
    "### Import Packages and Raw_data"
   ]
  },
  {
   "cell_type": "code",
   "execution_count": 183,
   "id": "819a34c1-9a8e-43cc-b34d-c49938ede945",
   "metadata": {},
   "outputs": [],
   "source": [
    "import pandas as pd\n",
    "from functools import wraps\n",
    "import datetime as dt\n",
    "import numpy as np\n",
    "import glob"
   ]
  },
  {
   "cell_type": "markdown",
   "id": "9c794c8f",
   "metadata": {},
   "source": [
    "### Import File"
   ]
  },
  {
   "cell_type": "code",
   "execution_count": 184,
   "id": "a9ca7c02",
   "metadata": {},
   "outputs": [
    {
     "name": "stdout",
     "output_type": "stream",
     "text": [
      "All Mode\n",
      "['../../data/partial/articles_partial_7.csv.zip', '../../data/partial/articles_partial_14_1.csv.zip', '../../data/partial/articles_partial_12_1.csv.zip', '../../data/partial/articles_partial_4.csv.zip', '../../data/partial/articles_partial_5.csv.zip', '../../data/partial/articles_partial_13_1.csv.zip', '../../data/partial/articles_partial_9.csv.zip', '../../data/partial/articles_partial_8.csv.zip', '../../data/partial/articles_partial_10_1.csv.zip', '../../data/partial/articles_partial_1.csv.zip', '../../data/partial/articles_partial_3.csv.zip', '../../data/partial/articles_partial_2.csv.zip']\n"
     ]
    },
    {
     "name": "stderr",
     "output_type": "stream",
     "text": [
      "/var/folders/kx/b3xc9jhj6qd_wgghcg01wqyr0000gn/T/ipykernel_54156/4165942927.py:20: DtypeWarning: Columns (16,27) have mixed types. Specify dtype option on import or set low_memory=False.\n",
      "  df = pd.read_csv(f, compression=\"zip\")\n"
     ]
    },
    {
     "name": "stdout",
     "output_type": "stream",
     "text": [
      "Location: ../../data/partial/articles_partial_7.csv.zip\n",
      "File Name: ../../data/partial/articles_partial_7.csv.zip\n",
      "Location: ../../data/partial/articles_partial_14_1.csv.zip\n",
      "File Name: ../../data/partial/articles_partial_14_1.csv.zip\n"
     ]
    },
    {
     "name": "stderr",
     "output_type": "stream",
     "text": [
      "/var/folders/kx/b3xc9jhj6qd_wgghcg01wqyr0000gn/T/ipykernel_54156/4165942927.py:20: DtypeWarning: Columns (20) have mixed types. Specify dtype option on import or set low_memory=False.\n",
      "  df = pd.read_csv(f, compression=\"zip\")\n"
     ]
    },
    {
     "name": "stdout",
     "output_type": "stream",
     "text": [
      "Location: ../../data/partial/articles_partial_12_1.csv.zip\n",
      "File Name: ../../data/partial/articles_partial_12_1.csv.zip\n",
      "Location: ../../data/partial/articles_partial_4.csv.zip\n",
      "File Name: ../../data/partial/articles_partial_4.csv.zip\n",
      "Location: ../../data/partial/articles_partial_5.csv.zip\n",
      "File Name: ../../data/partial/articles_partial_5.csv.zip\n",
      "Location: ../../data/partial/articles_partial_13_1.csv.zip\n",
      "File Name: ../../data/partial/articles_partial_13_1.csv.zip\n"
     ]
    },
    {
     "name": "stderr",
     "output_type": "stream",
     "text": [
      "/var/folders/kx/b3xc9jhj6qd_wgghcg01wqyr0000gn/T/ipykernel_54156/4165942927.py:20: DtypeWarning: Columns (18,27,28,29) have mixed types. Specify dtype option on import or set low_memory=False.\n",
      "  df = pd.read_csv(f, compression=\"zip\")\n"
     ]
    },
    {
     "name": "stdout",
     "output_type": "stream",
     "text": [
      "Location: ../../data/partial/articles_partial_9.csv.zip\n",
      "File Name: ../../data/partial/articles_partial_9.csv.zip\n"
     ]
    },
    {
     "name": "stderr",
     "output_type": "stream",
     "text": [
      "/var/folders/kx/b3xc9jhj6qd_wgghcg01wqyr0000gn/T/ipykernel_54156/4165942927.py:20: DtypeWarning: Columns (16,28,29) have mixed types. Specify dtype option on import or set low_memory=False.\n",
      "  df = pd.read_csv(f, compression=\"zip\")\n"
     ]
    },
    {
     "name": "stdout",
     "output_type": "stream",
     "text": [
      "Location: ../../data/partial/articles_partial_8.csv.zip\n",
      "File Name: ../../data/partial/articles_partial_8.csv.zip\n"
     ]
    },
    {
     "name": "stderr",
     "output_type": "stream",
     "text": [
      "/var/folders/kx/b3xc9jhj6qd_wgghcg01wqyr0000gn/T/ipykernel_54156/4165942927.py:20: DtypeWarning: Columns (16,28,29) have mixed types. Specify dtype option on import or set low_memory=False.\n",
      "  df = pd.read_csv(f, compression=\"zip\")\n"
     ]
    },
    {
     "name": "stdout",
     "output_type": "stream",
     "text": [
      "Location: ../../data/partial/articles_partial_10_1.csv.zip\n",
      "File Name: ../../data/partial/articles_partial_10_1.csv.zip\n"
     ]
    },
    {
     "name": "stderr",
     "output_type": "stream",
     "text": [
      "/var/folders/kx/b3xc9jhj6qd_wgghcg01wqyr0000gn/T/ipykernel_54156/4165942927.py:20: DtypeWarning: Columns (27,28) have mixed types. Specify dtype option on import or set low_memory=False.\n",
      "  df = pd.read_csv(f, compression=\"zip\")\n"
     ]
    },
    {
     "name": "stdout",
     "output_type": "stream",
     "text": [
      "Location: ../../data/partial/articles_partial_1.csv.zip\n",
      "File Name: ../../data/partial/articles_partial_1.csv.zip\n",
      "Location: ../../data/partial/articles_partial_3.csv.zip\n",
      "File Name: ../../data/partial/articles_partial_3.csv.zip\n"
     ]
    },
    {
     "name": "stderr",
     "output_type": "stream",
     "text": [
      "/var/folders/kx/b3xc9jhj6qd_wgghcg01wqyr0000gn/T/ipykernel_54156/4165942927.py:20: DtypeWarning: Columns (29) have mixed types. Specify dtype option on import or set low_memory=False.\n",
      "  df = pd.read_csv(f, compression=\"zip\")\n"
     ]
    },
    {
     "name": "stdout",
     "output_type": "stream",
     "text": [
      "Location: ../../data/partial/articles_partial_2.csv.zip\n",
      "File Name: ../../data/partial/articles_partial_2.csv.zip\n",
      "<class 'pandas.core.frame.DataFrame'>\n",
      "Int64Index: 352526 entries, 0 to 32314\n",
      "Data columns (total 33 columns):\n",
      " #   Column                    Non-Null Count   Dtype  \n",
      "---  ------                    --------------   -----  \n",
      " 0   Unnamed: 0                352526 non-null  int64  \n",
      " 1   id                        352526 non-null  object \n",
      " 2   type                      352526 non-null  object \n",
      " 3   sectionName               352526 non-null  object \n",
      " 4   webPublicationDate        352526 non-null  object \n",
      " 5   webTitle                  352526 non-null  object \n",
      " 6   isHosted                  352526 non-null  bool   \n",
      " 7   pillarName                349648 non-null  object \n",
      " 8   headline                  352526 non-null  object \n",
      " 9   trailText                 352522 non-null  object \n",
      " 10  byline                    342768 non-null  object \n",
      " 11  wordcount                 352526 non-null  int64  \n",
      " 12  firstPublicationDate      352468 non-null  object \n",
      " 13  lastModified              352526 non-null  object \n",
      " 14  productionOffice          352526 non-null  object \n",
      " 15  publication               352526 non-null  object \n",
      " 16  legallySensitive          352457 non-null  object \n",
      " 17  isLive                    352526 non-null  bool   \n",
      " 18  bodyText                  346806 non-null  object \n",
      " 19  commentCloseDate          130202 non-null  object \n",
      " 20  commentable               166325 non-null  object \n",
      " 21  newspaperPageNumber       184459 non-null  float64\n",
      " 22  newspaperEditionDate      194192 non-null  object \n",
      " 23  sensitive                 32863 non-null   object \n",
      " 24  liveBloggingNow           10779 non-null   object \n",
      " 25  displayHint               7390 non-null    object \n",
      " 26  starRating                15499 non-null   float64\n",
      " 27  contributorBio            1483 non-null    object \n",
      " 28  membershipAccess          93 non-null      object \n",
      " 29  tagWebTitle               352526 non-null  object \n",
      " 30  tagId                     352526 non-null  object \n",
      " 31  allowUgc                  476 non-null     object \n",
      " 32  scheduledPublicationDate  54 non-null      object \n",
      "dtypes: bool(2), float64(2), int64(2), object(27)\n",
      "memory usage: 86.7+ MB\n"
     ]
    }
   ],
   "source": [
    "# set mode \n",
    "# \"sample\" - onl one file\n",
    "# \"all\" - all files in partial\n",
    "\n",
    "mode = \"all\"\n",
    "\n",
    "path = '../../data/partial/' \n",
    "\n",
    "if mode == \"sample\":\n",
    "    init_df = pd.read_csv(f\"{path}articles_partial_1.csv.zip\", compression=\"zip\")\n",
    "    file_name = \"sample_file\"\n",
    "elif mode == \"all\":\n",
    "        file_name = \"all_articles\"\n",
    "        print(\"All Mode\")\n",
    "        init_df = pd.DataFrame()\n",
    "        csv_files = glob.glob(os.path.join(path, \"*.csv.zip\"))\n",
    "        print(csv_files)\n",
    "        for f in csv_files:\n",
    "            \n",
    "            # read the csv file\n",
    "            df = pd.read_csv(f, compression=\"zip\")\n",
    "            \n",
    "            # print the location and filename\n",
    "            print('Location:', f)\n",
    "            print('File Name:', f.split(\"\\\\\")[-1])\n",
    "            \n",
    "            init_df = pd.concat([init_df, df])\n",
    "else: \n",
    "    raise ValueError(\"No or unknown is set. Please choose a mode 'sample' or 'all' \")\n",
    "\n",
    "\n",
    "init_df.info()\n"
   ]
  },
  {
   "cell_type": "markdown",
   "id": "988110a7-0c79-4798-96b6-02dcba2dee2d",
   "metadata": {},
   "source": [
    "### Logging"
   ]
  },
  {
   "cell_type": "code",
   "execution_count": 185,
   "id": "6620dfdd-fcd1-423d-b5ae-9aaa69c5703e",
   "metadata": {},
   "outputs": [],
   "source": [
    "def log_step(func):\n",
    "    @wraps(func)\n",
    "    def wrapper(*args, **kwargs):\n",
    "        tic = dt.datetime.now()\n",
    "        result = func(*args, **kwargs)\n",
    "        time_taken = str(dt.datetime.now() - tic)\n",
    "        print(f\"{func.__name__}:\\n shape={result.shape} took {time_taken}s\\n\")\n",
    "        return result\n",
    "\n",
    "    return wrapper"
   ]
  },
  {
   "cell_type": "markdown",
   "id": "94d42427-88df-45f3-bba6-9abf1d93f9ed",
   "metadata": {},
   "source": [
    "## Pipeline - Functions"
   ]
  },
  {
   "cell_type": "markdown",
   "id": "66726894-88a8-4102-9977-a77a43c6d592",
   "metadata": {},
   "source": [
    "### Start Pipeline"
   ]
  },
  {
   "cell_type": "code",
   "execution_count": 186,
   "id": "aab6744b-d4cd-40a8-b71c-6e38fd5e272c",
   "metadata": {},
   "outputs": [],
   "source": [
    "@log_step\n",
    "def init_pipeline(df):\n",
    "    return df.copy()"
   ]
  },
  {
   "cell_type": "code",
   "execution_count": 201,
   "id": "b4445e6d",
   "metadata": {},
   "outputs": [],
   "source": [
    "def drop_columns(df):\n",
    "    df = df.drop(columns=[\n",
    "        \"contributorBio\",\n",
    "        \"displayHint\",\n",
    "        \"allowUgc\",\n",
    "        \"membershipAccess\"\n",
    "        ]\n",
    "        ) \n",
    "    \n",
    "    return df"
   ]
  },
  {
   "cell_type": "markdown",
   "id": "d54d0e78-301b-4247-951e-e9dae07e59ba",
   "metadata": {},
   "source": [
    "### Remove duplicates"
   ]
  },
  {
   "cell_type": "code",
   "execution_count": 188,
   "id": "8453c0be-e46e-4dde-b8c4-449bb1c8738a",
   "metadata": {},
   "outputs": [],
   "source": [
    "@log_step\n",
    "def remove_duplicates(df):\n",
    "        return df.drop_duplicates()"
   ]
  },
  {
   "cell_type": "markdown",
   "id": "cfb609d4",
   "metadata": {},
   "source": [
    "### Missing Values"
   ]
  },
  {
   "cell_type": "code",
   "execution_count": 189,
   "id": "3f833e4d",
   "metadata": {},
   "outputs": [],
   "source": [
    "@log_step\n",
    "def missing_values(df):\n",
    "    df = df.replace(\"NaN\", np.nan)\n",
    "    \n",
    "    # String\n",
    "    df[\"trailText\"] = df[\"trailText\"].fillna(\"\")\n",
    "    df[\"bodyText\"] = df[\"bodyText\"].fillna(\"\")\n",
    "    df[\"byline\"] = df[\"byline\"].fillna(\"unknown\")\n",
    "    df[\"pillarName\"] = df[\"pillarName\"].fillna(\"None\")\n",
    "\n",
    "    # Numerical \n",
    "    df[\"starRating\"] = df[\"starRating\"].fillna(99)\n",
    "    df[\"newspaperPageNumber\"] = df[\"newspaperPageNumber\"].fillna(0)\n",
    "\n",
    "    #Boolean\n",
    "    df[\"liveBloggingNow\"] = df[\"liveBloggingNow\"].fillna(False)\n",
    "    df[\"commentable\"] = df[\"commentable\"].fillna(False)\n",
    "    df[\"legallySensitive\"] = df[\"legallySensitive\"].fillna(False)\n",
    "    df[\"isLive\"] = df[\"isLive\"].fillna(False)\n",
    "    df[\"sensitive\"] = df[\"sensitive\"].fillna(False)\n",
    "\n",
    "    # Dates\n",
    "    df[\"firstPublicationDate\"] = df[\"firstPublicationDate\"].apply(lambda x: x[\"webPublicationDate\"] if x == np.nan else x)\n",
    "\n",
    "    df[\"commentCloseDate\"] = df[\"commentCloseDate\"].fillna(dt.datetime.strptime(\"1900-01-01\", \"%Y-%m-%d\"))\n",
    "    df[\"newspaperEditionDate\"] = df[\"newspaperEditionDate\"].fillna(dt.datetime.strptime(\"1900-01-01\", \"%Y-%m-%d\"))\n",
    "    df[\"scheduledPublicationDate\"] = df[\"scheduledPublicationDate\"].fillna(dt.datetime.strptime(\"1900-01-01\", \"%Y-%m-%d\"))\n",
    "    \n",
    "\n",
    "    return df"
   ]
  },
  {
   "cell_type": "markdown",
   "id": "c7019c19",
   "metadata": {},
   "source": [
    "### Adjust data types"
   ]
  },
  {
   "cell_type": "code",
   "execution_count": 190,
   "id": "b9cef212",
   "metadata": {},
   "outputs": [],
   "source": [
    "@log_step\n",
    "def adjust_data_types(df):\n",
    "       \n",
    "   # Strings\n",
    "   df[\"id\"] = df[\"id\"].astype(\"string\")\n",
    "   df[\"byline\"] = df[\"byline\"].astype(\"string\")\n",
    "   df[\"trailText\"] = df[\"trailText\"].astype(\"string\")\n",
    "   df[\"sectionName\"] = df[\"sectionName\"].astype(\"string\")\n",
    "   df[\"type\"] = df[\"type\"].astype(\"string\")\n",
    "   df[\"webTitle\"] = df[\"webTitle\"].astype(\"string\")\n",
    "   df[\"pillarName\"] = df[\"pillarName\"].astype(\"string\")\n",
    "   df[\"headline\"] = df[\"headline\"].astype(\"string\")\n",
    "   df[\"bodyText\"] = df[\"bodyText\"].astype(\"string\")\n",
    "   \n",
    "   # Numerical\n",
    "   df[\"wordcount\"] = df[\"wordcount\"].astype(\"int\")\n",
    "\n",
    "\n",
    "   # Categorical\n",
    "   df[\"productionOffice\"] = df[\"productionOffice\"].astype(\"category\")\n",
    "   \n",
    "\n",
    "   # boolean\n",
    "   df[\"isLive\"] = df[\"isLive\"].map({\"true\": True, \"false\": False})\n",
    "   df[\"commentable\"] = df[\"commentable\"].map({\"true\": True, np.nan: False})\n",
    "   df[\"liveBloggingNow\"] = df[\"liveBloggingNow\"].map({\"true\": True, np.nan: False})\n",
    "   df[\"legallySensitive\"] = df[\"legallySensitive\"].map({\"true\": True, np.nan: False})\n",
    "   df[\"isLive\"] = df[\"isLive\"].map({\"true\": True, np.nan: False})\n",
    "   \n",
    "   # Datetimes\n",
    "   df[\"webPublicationDate\"] = pd.to_datetime(df[\"webPublicationDate\"])\n",
    "   df[\"firstPublicationDate\"] = pd.to_datetime(df[\"firstPublicationDate\"])\n",
    "   \n",
    "   \n",
    "   df[\"commentCloseDate\"] = pd.to_datetime(df[\"commentCloseDate\"])\n",
    "   df[\"newspaperEditionDate\"] = pd.to_datetime(df[\"newspaperEditionDate\"])\n",
    "   df[\"scheduledPublicationDate\"] = pd.to_datetime(df[\"scheduledPublicationDate\"])\n",
    "\n",
    "   \n",
    "   \n",
    "   return df"
   ]
  },
  {
   "cell_type": "markdown",
   "id": "163e5fd5",
   "metadata": {},
   "source": [
    "### CSV"
   ]
  },
  {
   "cell_type": "code",
   "execution_count": 191,
   "id": "120b5445",
   "metadata": {},
   "outputs": [],
   "source": [
    "@log_step\n",
    "def create_csv(df):\n",
    "    df.to_csv(f\"../../data/clean/{file_name}_clean.csv.zip\", index=False, compression=\"zip\")\n",
    "    df.info()\n",
    "    return df"
   ]
  },
  {
   "cell_type": "markdown",
   "id": "75b48789-4011-43c0-b453-ccd8003b2bfb",
   "metadata": {},
   "source": [
    "## Run Cleaning"
   ]
  },
  {
   "cell_type": "code",
   "execution_count": 202,
   "id": "17228ead-fc86-4dc6-8707-500ea870ef17",
   "metadata": {},
   "outputs": [
    {
     "name": "stdout",
     "output_type": "stream",
     "text": [
      "init_pipeline:\n",
      " shape=(352526, 33) took 0:00:00.505567s\n",
      "\n",
      "remove_duplicates:\n",
      " shape=(352526, 29) took 0:00:02.455911s\n",
      "\n",
      "adjust_data_types:\n",
      " shape=(352526, 29) took 0:00:02.512935s\n",
      "\n",
      "missing_values:\n",
      " shape=(352526, 29) took 0:00:03.224134s\n",
      "\n",
      "<class 'pandas.core.frame.DataFrame'>\n",
      "Int64Index: 352526 entries, 0 to 32314\n",
      "Data columns (total 29 columns):\n",
      " #   Column                    Non-Null Count   Dtype              \n",
      "---  ------                    --------------   -----              \n",
      " 0   Unnamed: 0                352526 non-null  int64              \n",
      " 1   id                        352526 non-null  string             \n",
      " 2   type                      352526 non-null  string             \n",
      " 3   sectionName               352526 non-null  string             \n",
      " 4   webPublicationDate        352526 non-null  datetime64[ns, UTC]\n",
      " 5   webTitle                  352526 non-null  string             \n",
      " 6   isHosted                  352526 non-null  bool               \n",
      " 7   pillarName                352526 non-null  string             \n",
      " 8   headline                  352526 non-null  string             \n",
      " 9   trailText                 352526 non-null  string             \n",
      " 10  byline                    352526 non-null  string             \n",
      " 11  wordcount                 352526 non-null  int64              \n",
      " 12  firstPublicationDate      352468 non-null  datetime64[ns, UTC]\n",
      " 13  lastModified              352526 non-null  object             \n",
      " 14  productionOffice          352526 non-null  category           \n",
      " 15  publication               352526 non-null  object             \n",
      " 16  legallySensitive          352526 non-null  bool               \n",
      " 17  isLive                    352526 non-null  bool               \n",
      " 18  bodyText                  352526 non-null  string             \n",
      " 19  commentCloseDate          352526 non-null  object             \n",
      " 20  commentable               352526 non-null  bool               \n",
      " 21  newspaperPageNumber       352526 non-null  float64            \n",
      " 22  newspaperEditionDate      352526 non-null  object             \n",
      " 23  sensitive                 352526 non-null  bool               \n",
      " 24  liveBloggingNow           352526 non-null  bool               \n",
      " 25  starRating                352526 non-null  float64            \n",
      " 26  tagWebTitle               352526 non-null  object             \n",
      " 27  tagId                     352526 non-null  object             \n",
      " 28  scheduledPublicationDate  352526 non-null  object             \n",
      "dtypes: bool(6), category(1), datetime64[ns, UTC](2), float64(2), int64(2), object(7), string(9)\n",
      "memory usage: 64.2+ MB\n",
      "create_csv:\n",
      " shape=(352526, 29) took 0:04:16.765404s\n",
      "\n"
     ]
    }
   ],
   "source": [
    "articles = (\n",
    "init_df\n",
    "    .pipe(init_pipeline)       \n",
    "    .pipe(drop_columns)       \n",
    "    .pipe(remove_duplicates)              \n",
    "    .pipe(adjust_data_types)    \n",
    "    .pipe(missing_values)    \n",
    "    .pipe(create_csv)      \n",
    ")\n"
   ]
  },
  {
   "cell_type": "code",
   "execution_count": 200,
   "id": "85b31182",
   "metadata": {},
   "outputs": [
    {
     "data": {
      "text/plain": [
       "byline                           0\n",
       "wordcount                        0\n",
       "firstPublicationDate            58\n",
       "lastModified                     0\n",
       "productionOffice                 0\n",
       "publication                      0\n",
       "legallySensitive                 0\n",
       "isLive                           0\n",
       "bodyText                         0\n",
       "commentCloseDate                 0\n",
       "commentable                      0\n",
       "newspaperPageNumber              0\n",
       "newspaperEditionDate             0\n",
       "sensitive                        0\n",
       "liveBloggingNow                  0\n",
       "starRating                       0\n",
       "membershipAccess            352433\n",
       "tagWebTitle                      0\n",
       "tagId                            0\n",
       "scheduledPublicationDate         0\n",
       "dtype: int64"
      ]
     },
     "execution_count": 200,
     "metadata": {},
     "output_type": "execute_result"
    }
   ],
   "source": [
    "articles.iloc[:,10:].isna().sum()"
   ]
  },
  {
   "cell_type": "code",
   "execution_count": 199,
   "id": "c0f4768d",
   "metadata": {},
   "outputs": [
    {
     "data": {
      "text/plain": [
       "10570    False\n",
       "30496    False\n",
       "375      False\n",
       "25433    False\n",
       "11380    False\n",
       "17875    False\n",
       "14610    False\n",
       "17594    False\n",
       "23677    False\n",
       "31502    False\n",
       "9186      True\n",
       "20955    False\n",
       "11359    False\n",
       "10328    False\n",
       "9470     False\n",
       "20589    False\n",
       "26463    False\n",
       "18880    False\n",
       "7694      True\n",
       "26974    False\n",
       "Name: sensitive, dtype: bool"
      ]
     },
     "execution_count": 199,
     "metadata": {},
     "output_type": "execute_result"
    }
   ],
   "source": [
    "articles.sensitive.sample(20)"
   ]
  },
  {
   "cell_type": "code",
   "execution_count": null,
   "id": "5727e88e",
   "metadata": {},
   "outputs": [],
   "source": []
  },
  {
   "cell_type": "code",
   "execution_count": null,
   "id": "a01d42e0",
   "metadata": {},
   "outputs": [],
   "source": []
  },
  {
   "cell_type": "code",
   "execution_count": null,
   "id": "d28ce953",
   "metadata": {},
   "outputs": [],
   "source": []
  },
  {
   "cell_type": "code",
   "execution_count": null,
   "id": "44394089",
   "metadata": {},
   "outputs": [],
   "source": []
  }
 ],
 "metadata": {
  "interpreter": {
   "hash": "40d3a090f54c6569ab1632332b64b2c03c39dcf918b08424e98f38b5ae0af88f"
  },
  "kernelspec": {
   "display_name": "Python 3.9.12 ('base')",
   "language": "python",
   "name": "python3"
  },
  "language_info": {
   "codemirror_mode": {
    "name": "ipython",
    "version": 3
   },
   "file_extension": ".py",
   "mimetype": "text/x-python",
   "name": "python",
   "nbconvert_exporter": "python",
   "pygments_lexer": "ipython3",
   "version": "3.9.12"
  },
  "toc-showmarkdowntxt": false
 },
 "nbformat": 4,
 "nbformat_minor": 5
}
