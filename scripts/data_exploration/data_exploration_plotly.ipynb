{
 "cells": [
  {
   "cell_type": "code",
   "execution_count": 25,
   "metadata": {},
   "outputs": [],
   "source": [
    "\n",
    "import pandas as pd\n",
    "import numpy as np\n",
    "import chart_studio.plotly as py\n",
    "import seaborn as sns\n",
    "import plotly.express as px\n",
    "import plotly.graph_objects as go\n",
    "\n"
   ]
  },
  {
   "cell_type": "code",
   "execution_count": 21,
   "metadata": {},
   "outputs": [],
   "source": [
    "init_df = pd.read_csv(\"../../data/clean/2022_clean.csv.zip\", compression=\"zip\") "
   ]
  },
  {
   "cell_type": "code",
   "execution_count": 22,
   "metadata": {},
   "outputs": [],
   "source": [
    "def init_pipeline(df):\n",
    "    return df.copy()\n",
    "def adjust_dtypes(df):\n",
    "    df[\"webPublicationDate\"] = pd.to_datetime(df[\"webPublicationDate\"])\n",
    "    df[\"firstPublicationDate\"] = pd.to_datetime(df[\"firstPublicationDate\"])\n",
    "    df[\"sectionName\"] = df[\"sectionName\"].astype(\"category\")\n",
    "    return df\n",
    "def drop_columns(df):\n",
    "    df = df.drop(columns=\"Unnamed: 0\")\n",
    "    return df\n",
    "def extra_columns(df):\n",
    "    df = df.assign(year = lambda x: x[\"webPublicationDate\"].dt.year)\n",
    "    df = df.assign(month = lambda x: x[\"webPublicationDate\"].dt.month)\n",
    "    df = df.assign(day = lambda x: x[\"webPublicationDate\"].dt.day)\n",
    "    return df\n",
    "def set_index(df):\n",
    "    df.set_index(\"webPublicationDate\")\n",
    "    return df"
   ]
  },
  {
   "cell_type": "code",
   "execution_count": 23,
   "metadata": {},
   "outputs": [],
   "source": [
    "articles_exp = (\n",
    "init_df\n",
    "    .pipe(init_pipeline)       \n",
    "    .pipe(adjust_dtypes)    \n",
    "    .pipe(drop_columns)       \n",
    "    .pipe(extra_columns)    \n",
    "    #.pipe(set_index)    \n",
    ")"
   ]
  },
  {
   "cell_type": "code",
   "execution_count": 26,
   "metadata": {},
   "outputs": [
    {
     "ename": "PlotlyRequestError",
     "evalue": "Authentication credentials were not provided.",
     "output_type": "error",
     "traceback": [
      "\u001b[0;31m---------------------------------------------------------------------------\u001b[0m",
      "\u001b[0;31mPlotlyRequestError\u001b[0m                        Traceback (most recent call last)",
      "\u001b[1;32m/Users/simo/Home/WBS-Bootcamp/climate_news/scripts/data_exploration/data_exploration_plotly.ipynb Cell 5'\u001b[0m in \u001b[0;36m<cell line: 11>\u001b[0;34m()\u001b[0m\n\u001b[1;32m      <a href='vscode-notebook-cell:/Users/simo/Home/WBS-Bootcamp/climate_news/scripts/data_exploration/data_exploration_plotly.ipynb#ch0000005?line=4'>5</a>\u001b[0m trace1 \u001b[39m=\u001b[39m go\u001b[39m.\u001b[39mScatter(\n\u001b[1;32m      <a href='vscode-notebook-cell:/Users/simo/Home/WBS-Bootcamp/climate_news/scripts/data_exploration/data_exploration_plotly.ipynb#ch0000005?line=5'>6</a>\u001b[0m     x\u001b[39m=\u001b[39m[\u001b[39m1\u001b[39m, \u001b[39m2\u001b[39m, \u001b[39m3\u001b[39m, \u001b[39m4\u001b[39m],\n\u001b[1;32m      <a href='vscode-notebook-cell:/Users/simo/Home/WBS-Bootcamp/climate_news/scripts/data_exploration/data_exploration_plotly.ipynb#ch0000005?line=6'>7</a>\u001b[0m     y\u001b[39m=\u001b[39m[\u001b[39m16\u001b[39m, \u001b[39m5\u001b[39m, \u001b[39m11\u001b[39m, \u001b[39m9\u001b[39m]\n\u001b[1;32m      <a href='vscode-notebook-cell:/Users/simo/Home/WBS-Bootcamp/climate_news/scripts/data_exploration/data_exploration_plotly.ipynb#ch0000005?line=7'>8</a>\u001b[0m )\n\u001b[1;32m      <a href='vscode-notebook-cell:/Users/simo/Home/WBS-Bootcamp/climate_news/scripts/data_exploration/data_exploration_plotly.ipynb#ch0000005?line=8'>9</a>\u001b[0m data \u001b[39m=\u001b[39m [trace0, trace1]\n\u001b[0;32m---> <a href='vscode-notebook-cell:/Users/simo/Home/WBS-Bootcamp/climate_news/scripts/data_exploration/data_exploration_plotly.ipynb#ch0000005?line=10'>11</a>\u001b[0m py\u001b[39m.\u001b[39;49miplot(data, filename \u001b[39m=\u001b[39;49m \u001b[39m'\u001b[39;49m\u001b[39mbasic-line\u001b[39;49m\u001b[39m'\u001b[39;49m)\n",
      "File \u001b[0;32m/opt/anaconda3/lib/python3.9/site-packages/chart_studio/plotly/plotly.py:135\u001b[0m, in \u001b[0;36miplot\u001b[0;34m(figure_or_data, **plot_options)\u001b[0m\n\u001b[1;32m    <a href='file:///opt/anaconda3/lib/python3.9/site-packages/chart_studio/plotly/plotly.py?line=132'>133</a>\u001b[0m \u001b[39mif\u001b[39;00m \u001b[39m\"\u001b[39m\u001b[39mauto_open\u001b[39m\u001b[39m\"\u001b[39m \u001b[39mnot\u001b[39;00m \u001b[39min\u001b[39;00m plot_options:\n\u001b[1;32m    <a href='file:///opt/anaconda3/lib/python3.9/site-packages/chart_studio/plotly/plotly.py?line=133'>134</a>\u001b[0m     plot_options[\u001b[39m\"\u001b[39m\u001b[39mauto_open\u001b[39m\u001b[39m\"\u001b[39m] \u001b[39m=\u001b[39m \u001b[39mFalse\u001b[39;00m\n\u001b[0;32m--> <a href='file:///opt/anaconda3/lib/python3.9/site-packages/chart_studio/plotly/plotly.py?line=134'>135</a>\u001b[0m url \u001b[39m=\u001b[39m plot(figure_or_data, \u001b[39m*\u001b[39;49m\u001b[39m*\u001b[39;49mplot_options)\n\u001b[1;32m    <a href='file:///opt/anaconda3/lib/python3.9/site-packages/chart_studio/plotly/plotly.py?line=136'>137</a>\u001b[0m \u001b[39mif\u001b[39;00m \u001b[39misinstance\u001b[39m(figure_or_data, \u001b[39mdict\u001b[39m):\n\u001b[1;32m    <a href='file:///opt/anaconda3/lib/python3.9/site-packages/chart_studio/plotly/plotly.py?line=137'>138</a>\u001b[0m     layout \u001b[39m=\u001b[39m figure_or_data\u001b[39m.\u001b[39mget(\u001b[39m\"\u001b[39m\u001b[39mlayout\u001b[39m\u001b[39m\"\u001b[39m, {})\n",
      "File \u001b[0;32m/opt/anaconda3/lib/python3.9/site-packages/chart_studio/plotly/plotly.py:276\u001b[0m, in \u001b[0;36mplot\u001b[0;34m(figure_or_data, validate, **plot_options)\u001b[0m\n\u001b[1;32m    <a href='file:///opt/anaconda3/lib/python3.9/site-packages/chart_studio/plotly/plotly.py?line=272'>273</a>\u001b[0m \u001b[39melse\u001b[39;00m:\n\u001b[1;32m    <a href='file:///opt/anaconda3/lib/python3.9/site-packages/chart_studio/plotly/plotly.py?line=273'>274</a>\u001b[0m     grid_filename \u001b[39m=\u001b[39m filename \u001b[39m+\u001b[39m \u001b[39m\"\u001b[39m\u001b[39m_grid\u001b[39m\u001b[39m\"\u001b[39m\n\u001b[0;32m--> <a href='file:///opt/anaconda3/lib/python3.9/site-packages/chart_studio/plotly/plotly.py?line=275'>276</a>\u001b[0m grid_ops\u001b[39m.\u001b[39;49mupload(\n\u001b[1;32m    <a href='file:///opt/anaconda3/lib/python3.9/site-packages/chart_studio/plotly/plotly.py?line=276'>277</a>\u001b[0m     grid\u001b[39m=\u001b[39;49mgrid,\n\u001b[1;32m    <a href='file:///opt/anaconda3/lib/python3.9/site-packages/chart_studio/plotly/plotly.py?line=277'>278</a>\u001b[0m     filename\u001b[39m=\u001b[39;49mgrid_filename,\n\u001b[1;32m    <a href='file:///opt/anaconda3/lib/python3.9/site-packages/chart_studio/plotly/plotly.py?line=278'>279</a>\u001b[0m     world_readable\u001b[39m=\u001b[39;49mpayload[\u001b[39m\"\u001b[39;49m\u001b[39mworld_readable\u001b[39;49m\u001b[39m\"\u001b[39;49m],\n\u001b[1;32m    <a href='file:///opt/anaconda3/lib/python3.9/site-packages/chart_studio/plotly/plotly.py?line=279'>280</a>\u001b[0m     auto_open\u001b[39m=\u001b[39;49m\u001b[39mFalse\u001b[39;49;00m,\n\u001b[1;32m    <a href='file:///opt/anaconda3/lib/python3.9/site-packages/chart_studio/plotly/plotly.py?line=280'>281</a>\u001b[0m )\n\u001b[1;32m    <a href='file:///opt/anaconda3/lib/python3.9/site-packages/chart_studio/plotly/plotly.py?line=282'>283</a>\u001b[0m _set_grid_column_references(figure, grid)\n\u001b[1;32m    <a href='file:///opt/anaconda3/lib/python3.9/site-packages/chart_studio/plotly/plotly.py?line=283'>284</a>\u001b[0m payload[\u001b[39m\"\u001b[39m\u001b[39mfigure\u001b[39m\u001b[39m\"\u001b[39m] \u001b[39m=\u001b[39m figure\n",
      "File \u001b[0;32m/opt/anaconda3/lib/python3.9/site-packages/chart_studio/plotly/plotly.py:1087\u001b[0m, in \u001b[0;36mgrid_ops.upload\u001b[0;34m(cls, grid, filename, world_readable, auto_open, meta)\u001b[0m\n\u001b[1;32m   <a href='file:///opt/anaconda3/lib/python3.9/site-packages/chart_studio/plotly/plotly.py?line=1083'>1084</a>\u001b[0m     \u001b[39mif\u001b[39;00m parent_path:\n\u001b[1;32m   <a href='file:///opt/anaconda3/lib/python3.9/site-packages/chart_studio/plotly/plotly.py?line=1084'>1085</a>\u001b[0m         payload[\u001b[39m\"\u001b[39m\u001b[39mparent_path\u001b[39m\u001b[39m\"\u001b[39m] \u001b[39m=\u001b[39m parent_path\n\u001b[0;32m-> <a href='file:///opt/anaconda3/lib/python3.9/site-packages/chart_studio/plotly/plotly.py?line=1086'>1087</a>\u001b[0m file_info \u001b[39m=\u001b[39m _create_or_overwrite_grid(payload)\n\u001b[1;32m   <a href='file:///opt/anaconda3/lib/python3.9/site-packages/chart_studio/plotly/plotly.py?line=1088'>1089</a>\u001b[0m cols \u001b[39m=\u001b[39m file_info[\u001b[39m\"\u001b[39m\u001b[39mcols\u001b[39m\u001b[39m\"\u001b[39m]\n\u001b[1;32m   <a href='file:///opt/anaconda3/lib/python3.9/site-packages/chart_studio/plotly/plotly.py?line=1089'>1090</a>\u001b[0m fid \u001b[39m=\u001b[39m file_info[\u001b[39m\"\u001b[39m\u001b[39mfid\u001b[39m\u001b[39m\"\u001b[39m]\n",
      "File \u001b[0;32m/opt/anaconda3/lib/python3.9/site-packages/chart_studio/plotly/plotly.py:1550\u001b[0m, in \u001b[0;36m_create_or_overwrite_grid\u001b[0;34m(data, max_retries)\u001b[0m\n\u001b[1;32m   <a href='file:///opt/anaconda3/lib/python3.9/site-packages/chart_studio/plotly/plotly.py?line=1547'>1548</a>\u001b[0m \u001b[39m# Create file\u001b[39;00m\n\u001b[1;32m   <a href='file:///opt/anaconda3/lib/python3.9/site-packages/chart_studio/plotly/plotly.py?line=1548'>1549</a>\u001b[0m \u001b[39mtry\u001b[39;00m:\n\u001b[0;32m-> <a href='file:///opt/anaconda3/lib/python3.9/site-packages/chart_studio/plotly/plotly.py?line=1549'>1550</a>\u001b[0m     res \u001b[39m=\u001b[39m api_module\u001b[39m.\u001b[39;49mcreate(data)\n\u001b[1;32m   <a href='file:///opt/anaconda3/lib/python3.9/site-packages/chart_studio/plotly/plotly.py?line=1550'>1551</a>\u001b[0m \u001b[39mexcept\u001b[39;00m exceptions\u001b[39m.\u001b[39mPlotlyRequestError \u001b[39mas\u001b[39;00m e:\n\u001b[1;32m   <a href='file:///opt/anaconda3/lib/python3.9/site-packages/chart_studio/plotly/plotly.py?line=1551'>1552</a>\u001b[0m     \u001b[39mif\u001b[39;00m max_retries \u001b[39m>\u001b[39m \u001b[39m0\u001b[39m \u001b[39mand\u001b[39;00m \u001b[39m\"\u001b[39m\u001b[39malready exists\u001b[39m\u001b[39m\"\u001b[39m \u001b[39min\u001b[39;00m e\u001b[39m.\u001b[39mmessage:\n\u001b[1;32m   <a href='file:///opt/anaconda3/lib/python3.9/site-packages/chart_studio/plotly/plotly.py?line=1552'>1553</a>\u001b[0m         \u001b[39m# Retry _create_or_overwrite\u001b[39;00m\n",
      "File \u001b[0;32m/opt/anaconda3/lib/python3.9/site-packages/chart_studio/api/v2/grids.py:18\u001b[0m, in \u001b[0;36mcreate\u001b[0;34m(body)\u001b[0m\n\u001b[1;32m     <a href='file:///opt/anaconda3/lib/python3.9/site-packages/chart_studio/api/v2/grids.py?line=9'>10</a>\u001b[0m \u001b[39m\"\"\"\u001b[39;00m\n\u001b[1;32m     <a href='file:///opt/anaconda3/lib/python3.9/site-packages/chart_studio/api/v2/grids.py?line=10'>11</a>\u001b[0m \u001b[39mCreate a new grid.\u001b[39;00m\n\u001b[1;32m     <a href='file:///opt/anaconda3/lib/python3.9/site-packages/chart_studio/api/v2/grids.py?line=11'>12</a>\u001b[0m \n\u001b[0;32m   (...)\u001b[0m\n\u001b[1;32m     <a href='file:///opt/anaconda3/lib/python3.9/site-packages/chart_studio/api/v2/grids.py?line=14'>15</a>\u001b[0m \n\u001b[1;32m     <a href='file:///opt/anaconda3/lib/python3.9/site-packages/chart_studio/api/v2/grids.py?line=15'>16</a>\u001b[0m \u001b[39m\"\"\"\u001b[39;00m\n\u001b[1;32m     <a href='file:///opt/anaconda3/lib/python3.9/site-packages/chart_studio/api/v2/grids.py?line=16'>17</a>\u001b[0m url \u001b[39m=\u001b[39m build_url(RESOURCE)\n\u001b[0;32m---> <a href='file:///opt/anaconda3/lib/python3.9/site-packages/chart_studio/api/v2/grids.py?line=17'>18</a>\u001b[0m \u001b[39mreturn\u001b[39;00m request(\u001b[39m\"\u001b[39;49m\u001b[39mpost\u001b[39;49m\u001b[39m\"\u001b[39;49m, url, json\u001b[39m=\u001b[39;49mbody)\n",
      "File \u001b[0;32m/opt/anaconda3/lib/python3.9/site-packages/retrying.py:49\u001b[0m, in \u001b[0;36mretry.<locals>.wrap.<locals>.wrapped_f\u001b[0;34m(*args, **kw)\u001b[0m\n\u001b[1;32m     <a href='file:///opt/anaconda3/lib/python3.9/site-packages/retrying.py?line=46'>47</a>\u001b[0m \u001b[39m@six\u001b[39m\u001b[39m.\u001b[39mwraps(f)\n\u001b[1;32m     <a href='file:///opt/anaconda3/lib/python3.9/site-packages/retrying.py?line=47'>48</a>\u001b[0m \u001b[39mdef\u001b[39;00m \u001b[39mwrapped_f\u001b[39m(\u001b[39m*\u001b[39margs, \u001b[39m*\u001b[39m\u001b[39m*\u001b[39mkw):\n\u001b[0;32m---> <a href='file:///opt/anaconda3/lib/python3.9/site-packages/retrying.py?line=48'>49</a>\u001b[0m     \u001b[39mreturn\u001b[39;00m Retrying(\u001b[39m*\u001b[39;49mdargs, \u001b[39m*\u001b[39;49m\u001b[39m*\u001b[39;49mdkw)\u001b[39m.\u001b[39;49mcall(f, \u001b[39m*\u001b[39;49margs, \u001b[39m*\u001b[39;49m\u001b[39m*\u001b[39;49mkw)\n",
      "File \u001b[0;32m/opt/anaconda3/lib/python3.9/site-packages/retrying.py:206\u001b[0m, in \u001b[0;36mRetrying.call\u001b[0;34m(self, fn, *args, **kwargs)\u001b[0m\n\u001b[1;32m    <a href='file:///opt/anaconda3/lib/python3.9/site-packages/retrying.py?line=202'>203</a>\u001b[0m     attempt \u001b[39m=\u001b[39m Attempt(tb, attempt_number, \u001b[39mTrue\u001b[39;00m)\n\u001b[1;32m    <a href='file:///opt/anaconda3/lib/python3.9/site-packages/retrying.py?line=204'>205</a>\u001b[0m \u001b[39mif\u001b[39;00m \u001b[39mnot\u001b[39;00m \u001b[39mself\u001b[39m\u001b[39m.\u001b[39mshould_reject(attempt):\n\u001b[0;32m--> <a href='file:///opt/anaconda3/lib/python3.9/site-packages/retrying.py?line=205'>206</a>\u001b[0m     \u001b[39mreturn\u001b[39;00m attempt\u001b[39m.\u001b[39;49mget(\u001b[39mself\u001b[39;49m\u001b[39m.\u001b[39;49m_wrap_exception)\n\u001b[1;32m    <a href='file:///opt/anaconda3/lib/python3.9/site-packages/retrying.py?line=207'>208</a>\u001b[0m delay_since_first_attempt_ms \u001b[39m=\u001b[39m \u001b[39mint\u001b[39m(\u001b[39mround\u001b[39m(time\u001b[39m.\u001b[39mtime() \u001b[39m*\u001b[39m \u001b[39m1000\u001b[39m)) \u001b[39m-\u001b[39m start_time\n\u001b[1;32m    <a href='file:///opt/anaconda3/lib/python3.9/site-packages/retrying.py?line=208'>209</a>\u001b[0m \u001b[39mif\u001b[39;00m \u001b[39mself\u001b[39m\u001b[39m.\u001b[39mstop(attempt_number, delay_since_first_attempt_ms):\n",
      "File \u001b[0;32m/opt/anaconda3/lib/python3.9/site-packages/retrying.py:247\u001b[0m, in \u001b[0;36mAttempt.get\u001b[0;34m(self, wrap_exception)\u001b[0m\n\u001b[1;32m    <a href='file:///opt/anaconda3/lib/python3.9/site-packages/retrying.py?line=244'>245</a>\u001b[0m         \u001b[39mraise\u001b[39;00m RetryError(\u001b[39mself\u001b[39m)\n\u001b[1;32m    <a href='file:///opt/anaconda3/lib/python3.9/site-packages/retrying.py?line=245'>246</a>\u001b[0m     \u001b[39melse\u001b[39;00m:\n\u001b[0;32m--> <a href='file:///opt/anaconda3/lib/python3.9/site-packages/retrying.py?line=246'>247</a>\u001b[0m         six\u001b[39m.\u001b[39;49mreraise(\u001b[39mself\u001b[39;49m\u001b[39m.\u001b[39;49mvalue[\u001b[39m0\u001b[39;49m], \u001b[39mself\u001b[39;49m\u001b[39m.\u001b[39;49mvalue[\u001b[39m1\u001b[39;49m], \u001b[39mself\u001b[39;49m\u001b[39m.\u001b[39;49mvalue[\u001b[39m2\u001b[39;49m])\n\u001b[1;32m    <a href='file:///opt/anaconda3/lib/python3.9/site-packages/retrying.py?line=247'>248</a>\u001b[0m \u001b[39melse\u001b[39;00m:\n\u001b[1;32m    <a href='file:///opt/anaconda3/lib/python3.9/site-packages/retrying.py?line=248'>249</a>\u001b[0m     \u001b[39mreturn\u001b[39;00m \u001b[39mself\u001b[39m\u001b[39m.\u001b[39mvalue\n",
      "File \u001b[0;32m/opt/anaconda3/lib/python3.9/site-packages/six.py:719\u001b[0m, in \u001b[0;36mreraise\u001b[0;34m(tp, value, tb)\u001b[0m\n\u001b[1;32m    <a href='file:///opt/anaconda3/lib/python3.9/site-packages/six.py?line=716'>717</a>\u001b[0m     \u001b[39mif\u001b[39;00m value\u001b[39m.\u001b[39m__traceback__ \u001b[39mis\u001b[39;00m \u001b[39mnot\u001b[39;00m tb:\n\u001b[1;32m    <a href='file:///opt/anaconda3/lib/python3.9/site-packages/six.py?line=717'>718</a>\u001b[0m         \u001b[39mraise\u001b[39;00m value\u001b[39m.\u001b[39mwith_traceback(tb)\n\u001b[0;32m--> <a href='file:///opt/anaconda3/lib/python3.9/site-packages/six.py?line=718'>719</a>\u001b[0m     \u001b[39mraise\u001b[39;00m value\n\u001b[1;32m    <a href='file:///opt/anaconda3/lib/python3.9/site-packages/six.py?line=719'>720</a>\u001b[0m \u001b[39mfinally\u001b[39;00m:\n\u001b[1;32m    <a href='file:///opt/anaconda3/lib/python3.9/site-packages/six.py?line=720'>721</a>\u001b[0m     value \u001b[39m=\u001b[39m \u001b[39mNone\u001b[39;00m\n",
      "File \u001b[0;32m/opt/anaconda3/lib/python3.9/site-packages/retrying.py:200\u001b[0m, in \u001b[0;36mRetrying.call\u001b[0;34m(self, fn, *args, **kwargs)\u001b[0m\n\u001b[1;32m    <a href='file:///opt/anaconda3/lib/python3.9/site-packages/retrying.py?line=197'>198</a>\u001b[0m \u001b[39mwhile\u001b[39;00m \u001b[39mTrue\u001b[39;00m:\n\u001b[1;32m    <a href='file:///opt/anaconda3/lib/python3.9/site-packages/retrying.py?line=198'>199</a>\u001b[0m     \u001b[39mtry\u001b[39;00m:\n\u001b[0;32m--> <a href='file:///opt/anaconda3/lib/python3.9/site-packages/retrying.py?line=199'>200</a>\u001b[0m         attempt \u001b[39m=\u001b[39m Attempt(fn(\u001b[39m*\u001b[39;49margs, \u001b[39m*\u001b[39;49m\u001b[39m*\u001b[39;49mkwargs), attempt_number, \u001b[39mFalse\u001b[39;00m)\n\u001b[1;32m    <a href='file:///opt/anaconda3/lib/python3.9/site-packages/retrying.py?line=200'>201</a>\u001b[0m     \u001b[39mexcept\u001b[39;00m:\n\u001b[1;32m    <a href='file:///opt/anaconda3/lib/python3.9/site-packages/retrying.py?line=201'>202</a>\u001b[0m         tb \u001b[39m=\u001b[39m sys\u001b[39m.\u001b[39mexc_info()\n",
      "File \u001b[0;32m/opt/anaconda3/lib/python3.9/site-packages/chart_studio/api/v2/utils.py:180\u001b[0m, in \u001b[0;36mrequest\u001b[0;34m(method, url, **kwargs)\u001b[0m\n\u001b[1;32m    <a href='file:///opt/anaconda3/lib/python3.9/site-packages/chart_studio/api/v2/utils.py?line=177'>178</a>\u001b[0m     content \u001b[39m=\u001b[39m response\u001b[39m.\u001b[39mcontent \u001b[39mif\u001b[39;00m response \u001b[39melse\u001b[39;00m \u001b[39m\"\u001b[39m\u001b[39mNo content\u001b[39m\u001b[39m\"\u001b[39m\n\u001b[1;32m    <a href='file:///opt/anaconda3/lib/python3.9/site-packages/chart_studio/api/v2/utils.py?line=178'>179</a>\u001b[0m     \u001b[39mraise\u001b[39;00m exceptions\u001b[39m.\u001b[39mPlotlyRequestError(message, status_code, content)\n\u001b[0;32m--> <a href='file:///opt/anaconda3/lib/python3.9/site-packages/chart_studio/api/v2/utils.py?line=179'>180</a>\u001b[0m validate_response(response)\n\u001b[1;32m    <a href='file:///opt/anaconda3/lib/python3.9/site-packages/chart_studio/api/v2/utils.py?line=180'>181</a>\u001b[0m \u001b[39mreturn\u001b[39;00m response\n",
      "File \u001b[0;32m/opt/anaconda3/lib/python3.9/site-packages/chart_studio/api/v2/utils.py:82\u001b[0m, in \u001b[0;36mvalidate_response\u001b[0;34m(response)\u001b[0m\n\u001b[1;32m     <a href='file:///opt/anaconda3/lib/python3.9/site-packages/chart_studio/api/v2/utils.py?line=78'>79</a>\u001b[0m \u001b[39mif\u001b[39;00m \u001b[39mnot\u001b[39;00m message:\n\u001b[1;32m     <a href='file:///opt/anaconda3/lib/python3.9/site-packages/chart_studio/api/v2/utils.py?line=79'>80</a>\u001b[0m     message \u001b[39m=\u001b[39m content \u001b[39mif\u001b[39;00m content \u001b[39melse\u001b[39;00m \u001b[39m\"\u001b[39m\u001b[39mNo Content\u001b[39m\u001b[39m\"\u001b[39m\n\u001b[0;32m---> <a href='file:///opt/anaconda3/lib/python3.9/site-packages/chart_studio/api/v2/utils.py?line=81'>82</a>\u001b[0m \u001b[39mraise\u001b[39;00m exceptions\u001b[39m.\u001b[39mPlotlyRequestError(message, status_code, content)\n",
      "\u001b[0;31mPlotlyRequestError\u001b[0m: Authentication credentials were not provided."
     ]
    }
   ],
   "source": [
    "trace0 = go.Scatter(\n",
    "    x=[1, 2, 3, 4],\n",
    "    y=[10, 15, 13, 17]\n",
    ")\n",
    "trace1 = go.Scatter(\n",
    "    x=[1, 2, 3, 4],\n",
    "    y=[16, 5, 11, 9]\n",
    ")\n",
    "data = [trace0, trace1]\n",
    "\n",
    "py.iplot(data, filename = 'basic-line')"
   ]
  },
  {
   "cell_type": "code",
   "execution_count": null,
   "metadata": {},
   "outputs": [],
   "source": []
  }
 ],
 "metadata": {
  "interpreter": {
   "hash": "40d3a090f54c6569ab1632332b64b2c03c39dcf918b08424e98f38b5ae0af88f"
  },
  "kernelspec": {
   "display_name": "Python 3.9.12 ('base')",
   "language": "python",
   "name": "python3"
  },
  "language_info": {
   "codemirror_mode": {
    "name": "ipython",
    "version": 3
   },
   "file_extension": ".py",
   "mimetype": "text/x-python",
   "name": "python",
   "nbconvert_exporter": "python",
   "pygments_lexer": "ipython3",
   "version": "3.9.12"
  },
  "orig_nbformat": 4
 },
 "nbformat": 4,
 "nbformat_minor": 2
}
