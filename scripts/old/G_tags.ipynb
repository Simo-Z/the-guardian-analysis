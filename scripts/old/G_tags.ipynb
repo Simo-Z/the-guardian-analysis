{
 "cells": [
  {
   "cell_type": "markdown",
   "metadata": {},
   "source": [
    "# Guardian API - Tag Endpoint"
   ]
  },
  {
   "cell_type": "markdown",
   "metadata": {},
   "source": [
    "## Import Packages"
   ]
  },
  {
   "cell_type": "code",
   "execution_count": 2,
   "metadata": {},
   "outputs": [],
   "source": [
    "# load .env File in Environment\n",
    "from dotenv import load_dotenv\n",
    "# operating system interfaces - get Environment-variables\n",
    "import os\n",
    "# Connect to API\n",
    "import requests\n",
    "# create Pandas Data Frame\n",
    "import pandas as pd\n"
   ]
  },
  {
   "cell_type": "markdown",
   "metadata": {},
   "source": [
    "## Load Variables from .env File"
   ]
  },
  {
   "cell_type": "code",
   "execution_count": 3,
   "metadata": {},
   "outputs": [
    {
     "data": {
      "text/plain": [
       "True"
      ]
     },
     "execution_count": 3,
     "metadata": {},
     "output_type": "execute_result"
    }
   ],
   "source": [
    "load_dotenv()"
   ]
  },
  {
   "cell_type": "markdown",
   "metadata": {},
   "source": [
    "## Endpoints\n",
    "tag_url = \"http://content.guardianapis.com/tags\"\n",
    "\n",
    "content_url = \"https://content.guardianapis.com/search\"\n",
    "\n",
    "sections_url = \"https://content.guardianapis.com/sections\"\n",
    "\n",
    "editions_url = \"https://content.guardianapis.com/editions\"\n",
    "\n",
    "single_item_url = \"https://content.guardianapis.com/\"\n"
   ]
  },
  {
   "cell_type": "code",
   "execution_count": 4,
   "metadata": {},
   "outputs": [],
   "source": [
    "tag_url = \"http://content.guardianapis.com/tags\""
   ]
  },
  {
   "cell_type": "markdown",
   "metadata": {},
   "source": [
    "### Create DataFrame function\n"
   ]
  },
  {
   "cell_type": "code",
   "execution_count": 5,
   "metadata": {},
   "outputs": [],
   "source": [
    "def get_df(url: str, params: dict,max_pages: int = 0):\n",
    "      cur_page = 1\n",
    "      total_pages = 1\n",
    "      results = []\n",
    "      while cur_page <= total_pages:\n",
    "            params[\"page\"] = cur_page\n",
    "            try:\n",
    "                  response = requests.get(url, params)\n",
    "                  new_results = response.json()[\"response\"][\"results\"]\n",
    "                  results = results + new_results\n",
    "                  response.raise_for_status()\n",
    "            except Exception as err:\n",
    "                  SystemExit(err)\n",
    "            cur_page += 1\n",
    "            \n",
    "            if max_pages > 0:\n",
    "                  total_pages = max_pages\n",
    "            else: \n",
    "                  total_pages = response.json()['response']['pages']\n",
    "\n",
    "\n",
    "      results_df = pd.DataFrame(results)\n",
    "      return results_df"
   ]
  },
  {
   "cell_type": "markdown",
   "metadata": {},
   "source": [
    "### Set Params"
   ]
  },
  {
   "cell_type": "code",
   "execution_count": 6,
   "metadata": {},
   "outputs": [],
   "source": [
    "tag_params ={\n",
    "    \"q\" : \"climate\",             # Request tags containing exactly this free text\n",
    "    #\"page\": \"1\",                 # Returns results only for that page index\t\n",
    "    \"page_size\" : \"200\",           # Modify the number of items displayed per page\n",
    "    \"api_key\": os.getenv(\"GUARDIAN_API_KEY\")\n",
    "    #\"web_title\" : \"\",           # Request tags starting with this free text\n",
    "    #\"type\" : \"\",               # Return only tags of that type\n",
    "    #\"section\": \"\",            # Return only tags in those sections\t\n",
    "    #\"reference_type\" : \"\",     #  Return only tags with those references\t\n",
    "    #\"show_references\" : \"\"      # Show associated reference data such as ISBN\n",
    "}"
   ]
  },
  {
   "cell_type": "code",
   "execution_count": 7,
   "metadata": {},
   "outputs": [
    {
     "name": "stdout",
     "output_type": "stream",
     "text": [
      "<class 'pandas.core.frame.DataFrame'>\n",
      "Index: 0 entries\n",
      "Empty DataFrame"
     ]
    }
   ],
   "source": [
    "tags_df = get_df(tag_url, tag_params, max_pages=1)\n",
    "tags_df.info()"
   ]
  },
  {
   "cell_type": "code",
   "execution_count": 10,
   "metadata": {},
   "outputs": [],
   "source": [
    "tags_df.to_csv(\"../../data/raw/tags_raw.csv\")"
   ]
  },
  {
   "cell_type": "code",
   "execution_count": null,
   "metadata": {},
   "outputs": [],
   "source": []
  }
 ],
 "metadata": {
  "interpreter": {
   "hash": "40d3a090f54c6569ab1632332b64b2c03c39dcf918b08424e98f38b5ae0af88f"
  },
  "kernelspec": {
   "display_name": "Python 3.9.12 ('base')",
   "language": "python",
   "name": "python3"
  },
  "language_info": {
   "codemirror_mode": {
    "name": "ipython",
    "version": 3
   },
   "file_extension": ".py",
   "mimetype": "text/x-python",
   "name": "python",
   "nbconvert_exporter": "python",
   "pygments_lexer": "ipython3",
   "version": "3.9.12"
  },
  "orig_nbformat": 4
 },
 "nbformat": 4,
 "nbformat_minor": 2
}
