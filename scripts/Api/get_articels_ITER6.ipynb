{
 "cells": [
  {
   "cell_type": "markdown",
   "metadata": {},
   "source": [
    "# Guardian - Iteration 6"
   ]
  },
  {
   "cell_type": "markdown",
   "metadata": {},
   "source": [
    "## Import Packages"
   ]
  },
  {
   "cell_type": "code",
   "execution_count": 1,
   "metadata": {},
   "outputs": [
    {
     "data": {
      "text/plain": [
       "True"
      ]
     },
     "execution_count": 1,
     "metadata": {},
     "output_type": "execute_result"
    }
   ],
   "source": [
    "# load .env File in Environment\n",
    "from dotenv import load_dotenv\n",
    "# operating system interfaces - get Environment-variables\n",
    "import os\n",
    "# Connect to API\n",
    "import requests\n",
    "# create Pandas Data Frame\n",
    "import pandas as pd\n",
    "import datetime as dt\n",
    "from functools import wraps\n",
    "load_dotenv()"
   ]
  },
  {
   "cell_type": "markdown",
   "metadata": {},
   "source": [
    "### Set Params"
   ]
  },
  {
   "cell_type": "code",
   "execution_count": 2,
   "metadata": {},
   "outputs": [],
   "source": [
    "iteration = 6\n",
    "\n",
    "content_url = \"https://content.guardianapis.com/search\"\n",
    "all_content_params = {\n",
    "    \"page-size\": \"50\",\n",
    "    \"show-fields\": \"all\",\n",
    "    \"show-tags\": \"all\",\n",
    "    \"from-date\": \"2019-12-01\",\n",
    "    \"to-date\": \"2020-05-01\",\n",
    "    \"order-by\": \"newest\",\n",
    "    \"api-key\": os.getenv(\"GUARDIAN_API_KEY4\"),\n",
    "}\n"
   ]
  },
  {
   "cell_type": "code",
   "execution_count": 3,
   "metadata": {},
   "outputs": [],
   "source": [
    "def log_step(func):\n",
    "    @wraps(func)\n",
    "    def wrapper(*args, **kwargs):\n",
    "        tic = dt.datetime.now()\n",
    "        result = func(*args, **kwargs)\n",
    "        time_taken = str(dt.datetime.now() - tic)\n",
    "        print(f\"{func.__name__}:\\n shape={result.shape} took {time_taken}s\\n\")\n",
    "        return result\n",
    "\n",
    "    return wrapper"
   ]
  },
  {
   "cell_type": "markdown",
   "metadata": {},
   "source": [
    "### Create DataFrame function\n"
   ]
  },
  {
   "cell_type": "code",
   "execution_count": 4,
   "metadata": {},
   "outputs": [],
   "source": [
    "def get_df(url: str, params: dict):\n",
    "        all_results = []\n",
    "        current_page = 1\n",
    "        total_pages = 1\n",
    "        while current_page <= total_pages:\n",
    "                tic = dt.datetime.now()\n",
    "                params[\"page\"] = current_page\n",
    "                try:\n",
    "                        r = requests.get(url, params)\n",
    "                        all_results = all_results + r.json()[\"response\"][\"results\"]\n",
    "                        r.raise_for_status()\n",
    "                except Exception as err:\n",
    "                        SystemExit(err)\n",
    "                if current_page == 1:\n",
    "                        print(\"---- API STATUS ---- \")\n",
    "                        print(\"status\",  r.json()[\"response\"][\"status\"])\n",
    "                        total_pages = r.json()['response']['pages']\n",
    "                        print(\"URL: \", r.url)\n",
    "                        print(\"status\",  r.json()[\"response\"][\"status\"])\n",
    "                        print(\"total\",  r.json()[\"response\"][\"total\"])\n",
    "                        print(\"startIndex\",  r.json()[\"response\"][\"startIndex\"])\n",
    "                        print(\"pageSize\",  r.json()[\"response\"][\"pageSize\"])\n",
    "                        print(\"pages\",  r.json()[\"response\"][\"pages\"])\n",
    "                        print(\"orderBy\",  r.json()[\"response\"][\"orderBy\"])\n",
    "                        print(\"---- RUNTIME STATUS ---- \")\n",
    "\n",
    "                time_taken = str(dt.datetime.now() - tic)\n",
    "                print(f\"({current_page}/{total_pages}) in {time_taken}s\")\n",
    "                        \n",
    "                current_page += 1\n",
    "\n",
    "        return pd.DataFrame(all_results)"
   ]
  },
  {
   "cell_type": "markdown",
   "metadata": {},
   "source": [
    "### API Request"
   ]
  },
  {
   "cell_type": "code",
   "execution_count": 5,
   "metadata": {},
   "outputs": [
    {
     "name": "stdout",
     "output_type": "stream",
     "text": [
      "---- API STATUS ---- \n",
      "status ok\n",
      "URL:  https://content.guardianapis.com/search?page-size=50&show-fields=all&show-tags=all&from-date=2019-12-01&to-date=2020-05-01&order-by=newest&api-key=295c6540-8c34-4390-ad47-0cf94ebc153f&page=1\n",
      "status ok\n",
      "total 33033\n",
      "startIndex 1\n",
      "pageSize 50\n",
      "pages 661\n",
      "orderBy newest\n",
      "---- RUNTIME STATUS ---- \n",
      "(1/661) in 0:00:08.637199s\n",
      "(2/661) in 0:00:05.269772s\n",
      "(3/661) in 0:00:03.956840s\n",
      "(4/661) in 0:00:06.294433s\n",
      "(5/661) in 0:00:05.234789s\n",
      "(6/661) in 0:00:05.595381s\n",
      "(7/661) in 0:00:02.816325s\n",
      "(8/661) in 0:00:07.673964s\n",
      "(9/661) in 0:00:06.729389s\n",
      "(10/661) in 0:00:06.786757s\n",
      "(11/661) in 0:00:06.179178s\n",
      "(12/661) in 0:00:07.120703s\n",
      "(13/661) in 0:00:03.461805s\n",
      "(14/661) in 0:00:03.842583s\n",
      "(15/661) in 0:00:04.415996s\n",
      "(16/661) in 0:00:02.352696s\n",
      "(17/661) in 0:00:01.931383s\n",
      "(18/661) in 0:00:08.441526s\n",
      "(19/661) in 0:00:03.641816s\n",
      "(20/661) in 0:00:07.420743s\n",
      "(21/661) in 0:00:04.764776s\n",
      "(22/661) in 0:00:04.537114s\n",
      "(23/661) in 0:00:03.747276s\n",
      "(24/661) in 0:00:05.915034s\n",
      "(25/661) in 0:00:08.131595s\n",
      "(26/661) in 0:00:05.315977s\n",
      "(27/661) in 0:00:05.162053s\n",
      "(28/661) in 0:00:03.773438s\n",
      "(29/661) in 0:00:21.838189s\n",
      "(30/661) in 0:00:17.008654s\n",
      "(31/661) in 0:00:10.360557s\n",
      "(32/661) in 0:00:04.278659s\n",
      "(33/661) in 0:00:10.410183s\n",
      "(34/661) in 0:00:04.881740s\n",
      "(35/661) in 0:00:06.283717s\n",
      "(36/661) in 0:00:21.457836s\n",
      "(37/661) in 0:00:03.144974s\n",
      "(38/661) in 0:00:08.486286s\n",
      "(39/661) in 0:00:06.001085s\n",
      "(40/661) in 0:00:13.852772s\n",
      "(41/661) in 0:00:06.710769s\n",
      "(42/661) in 0:00:06.589742s\n",
      "(43/661) in 0:00:10.788621s\n",
      "(44/661) in 0:00:14.492693s\n",
      "(45/661) in 0:00:06.056718s\n",
      "(46/661) in 0:00:04.403392s\n",
      "(47/661) in 0:00:05.489163s\n",
      "(48/661) in 0:00:06.759205s\n",
      "(49/661) in 0:00:12.909874s\n",
      "(50/661) in 0:00:12.820008s\n",
      "(51/661) in 0:00:05.196600s\n",
      "(52/661) in 0:00:04.196098s\n",
      "(53/661) in 0:00:05.806746s\n",
      "(54/661) in 0:00:08.392882s\n",
      "(55/661) in 0:00:10.462144s\n",
      "(56/661) in 0:00:26.654051s\n",
      "(57/661) in 0:00:07.504095s\n",
      "(58/661) in 0:00:07.140372s\n",
      "(59/661) in 0:00:05.355607s\n",
      "(60/661) in 0:00:11.058215s\n",
      "(61/661) in 0:00:04.640309s\n",
      "(62/661) in 0:00:06.697781s\n",
      "(63/661) in 0:00:06.967032s\n",
      "(64/661) in 0:00:06.130507s\n",
      "(65/661) in 0:00:06.833852s\n",
      "(66/661) in 0:00:10.165552s\n",
      "(67/661) in 0:00:04.736821s\n",
      "(68/661) in 0:00:04.497204s\n",
      "(69/661) in 0:00:07.026252s\n",
      "(70/661) in 0:00:09.931720s\n",
      "(71/661) in 0:00:17.165240s\n",
      "(72/661) in 0:00:06.268142s\n",
      "(73/661) in 0:00:18.016607s\n",
      "(74/661) in 0:00:20.422237s\n",
      "(75/661) in 0:00:33.322041s\n",
      "(76/661) in 0:00:16.440454s\n",
      "(77/661) in 0:00:07.013028s\n",
      "(78/661) in 0:00:11.339233s\n",
      "(79/661) in 0:00:11.316072s\n",
      "(80/661) in 0:00:08.544391s\n",
      "(81/661) in 0:00:38.371960s\n",
      "(82/661) in 0:00:10.000915s\n",
      "(83/661) in 0:00:27.545353s\n",
      "(84/661) in 0:00:12.561918s\n",
      "(85/661) in 0:00:21.346914s\n",
      "(86/661) in 0:00:27.509489s\n",
      "(87/661) in 0:00:08.014987s\n",
      "(88/661) in 0:00:05.424552s\n",
      "(89/661) in 0:00:12.327492s\n",
      "(90/661) in 0:00:13.915620s\n",
      "(91/661) in 0:00:08.980315s\n",
      "(92/661) in 0:00:14.954931s\n",
      "(93/661) in 0:00:09.569934s\n",
      "(94/661) in 0:00:06.629198s\n",
      "(95/661) in 0:00:11.975626s\n",
      "(96/661) in 0:00:15.084895s\n",
      "(97/661) in 0:00:25.034574s\n",
      "(98/661) in 0:00:03.387449s\n",
      "(99/661) in 0:00:15.172596s\n",
      "(100/661) in 0:00:17.468372s\n",
      "(101/661) in 0:00:09.440064s\n",
      "(102/661) in 0:00:11.347769s\n",
      "(103/661) in 0:00:08.895644s\n",
      "(104/661) in 0:00:06.844512s\n",
      "(105/661) in 0:00:16.793858s\n",
      "(106/661) in 0:00:07.253500s\n",
      "(107/661) in 0:00:06.848616s\n",
      "(108/661) in 0:00:11.602979s\n"
     ]
    }
   ],
   "source": [
    "init_df = get_df(content_url, all_content_params)"
   ]
  },
  {
   "cell_type": "code",
   "execution_count": null,
   "metadata": {},
   "outputs": [],
   "source": [
    "@log_step\n",
    "def init_pipeline(df):\n",
    "    return df.copy()\n",
    "\n",
    "@log_step\n",
    "def unfold_columns(df):\n",
    "    dict_cols = [\"fields\"] \n",
    "    for col in dict_cols:\n",
    "        new_df = pd.DataFrame()\n",
    "        new_df[col] = df[col]#.apply(lambda x: eval(x))\n",
    "        add_cols_df = pd.json_normalize(new_df[col])\n",
    "        df = pd.concat([df, add_cols_df], axis=1)\n",
    "    \n",
    "    # Tags extraction\n",
    "    \n",
    "    #df[\"tags\"] = df[\"tags\"].apply(lambda x: eval(x))\n",
    "    df['tagWebTitle'] = df['tags'].map(lambda x:[i['webTitle'] for i in x])\n",
    "    df['tagId'] = df['tags'].map(lambda x:[i['id'] for i in x])\n",
    "    df = df.drop(columns=\"tags\")\n",
    "    return df.drop(columns=dict_cols)\n",
    "@log_step\n",
    "def drop_columns(df):\n",
    "    df = df.drop(columns=[\n",
    "        \"body\",\n",
    "        \"webUrl\",\n",
    "        \"apiUrl\",\n",
    "        \"sectionId\",\n",
    "        \"pillarId\",\n",
    "        \"showAffiliateLinks\",\n",
    "        \"bylineHtml\",\n",
    "        \"standfirst\",\n",
    "        \"shouldHideReaderRevenue\",\n",
    "        \"isInappropriateForSponsorship\",\n",
    "        \"shortUrl\",\n",
    "        \"isPremoderated\",\n",
    "        \"charCount\",\n",
    "        \"shouldHideAdverts\",\n",
    "        \"showInRelatedContent\",\n",
    "        \"lang\",\n",
    "        \"main\",\n",
    "        \"thumbnail\"\n",
    "        \n",
    "    ])\n",
    "    return df\n",
    "\n",
    "@log_step\n",
    "def create_csv(df):\n",
    "    df.to_csv(f\"../../data/partial/articles_partial_{iteration}.csv.zip\", compression=\"zip\")\n",
    "    return df"
   ]
  },
  {
   "cell_type": "code",
   "execution_count": null,
   "metadata": {},
   "outputs": [
    {
     "name": "stdout",
     "output_type": "stream",
     "text": [
      "init_pipeline:\n",
      " shape=(33033, 14) took 0:00:00.009079s\n",
      "\n",
      "unfold_columns:\n",
      " shape=(33033, 17) took 0:00:00.633289s\n",
      "\n",
      "create_csv:\n",
      " shape=(33033, 17) took 0:00:03.506522s\n",
      "\n"
     ]
    }
   ],
   "source": [
    "articles = (\n",
    "    init_df\n",
    "        .pipe(init_pipeline)\n",
    "        .pipe(unfold_columns)\n",
    "        .pipe(drop_columns)\n",
    "        .pipe(create_csv)\n",
    ")"
   ]
  },
  {
   "cell_type": "code",
   "execution_count": null,
   "metadata": {},
   "outputs": [],
   "source": []
  }
 ],
 "metadata": {
  "interpreter": {
   "hash": "40d3a090f54c6569ab1632332b64b2c03c39dcf918b08424e98f38b5ae0af88f"
  },
  "kernelspec": {
   "display_name": "Python 3.9.12 ('base')",
   "language": "python",
   "name": "python3"
  },
  "language_info": {
   "codemirror_mode": {
    "name": "ipython",
    "version": 3
   },
   "file_extension": ".py",
   "mimetype": "text/x-python",
   "name": "python",
   "nbconvert_exporter": "python",
   "pygments_lexer": "ipython3",
   "version": "3.9.12"
  },
  "orig_nbformat": 4
 },
 "nbformat": 4,
 "nbformat_minor": 2
}
