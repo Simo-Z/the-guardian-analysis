{
 "cells": [
  {
   "cell_type": "code",
   "execution_count": 5,
   "metadata": {},
   "outputs": [
    {
     "name": "stdout",
     "output_type": "stream",
     "text": [
      "<class 'pandas.core.frame.DataFrame'>\n",
      "RangeIndex: 31492 entries, 0 to 31491\n",
      "Data columns (total 31 columns):\n",
      " #   Column                    Non-Null Count  Dtype  \n",
      "---  ------                    --------------  -----  \n",
      " 0   Unnamed: 0                31492 non-null  int64  \n",
      " 1   id                        31492 non-null  object \n",
      " 2   type                      31492 non-null  object \n",
      " 3   sectionName               31492 non-null  object \n",
      " 4   webPublicationDate        31492 non-null  object \n",
      " 5   webTitle                  31492 non-null  object \n",
      " 6   isHosted                  31492 non-null  bool   \n",
      " 7   pillarName                31351 non-null  object \n",
      " 8   headline                  31492 non-null  object \n",
      " 9   trailText                 31492 non-null  object \n",
      " 10  byline                    30716 non-null  object \n",
      " 11  wordcount                 31492 non-null  int64  \n",
      " 12  firstPublicationDate      31487 non-null  object \n",
      " 13  lastModified              31492 non-null  object \n",
      " 14  liveBloggingNow           1092 non-null   object \n",
      " 15  productionOffice          31492 non-null  object \n",
      " 16  publication               31492 non-null  object \n",
      " 17  legallySensitive          31488 non-null  object \n",
      " 18  isLive                    31492 non-null  bool   \n",
      " 19  bodyText                  30980 non-null  object \n",
      " 20  newspaperPageNumber       15203 non-null  float64\n",
      " 21  newspaperEditionDate      16139 non-null  object \n",
      " 22  starRating                1027 non-null   float64\n",
      " 23  commentCloseDate          7441 non-null   object \n",
      " 24  commentable               8234 non-null   object \n",
      " 25  sensitive                 1280 non-null   object \n",
      " 26  displayHint               805 non-null    object \n",
      " 27  contributorBio            11 non-null     object \n",
      " 28  scheduledPublicationDate  4 non-null      object \n",
      " 29  tagWebTitle               31492 non-null  object \n",
      " 30  tagId                     31492 non-null  object \n",
      "dtypes: bool(2), float64(2), int64(2), object(25)\n",
      "memory usage: 7.0+ MB\n"
     ]
    }
   ],
   "source": [
    "init_df = pd.read_csv(\"../../data/partial/articles_partial_4.csv.zip\", compression=\"zip\")\n",
    "init_df.info()"
   ]
  },
  {
   "cell_type": "code",
   "execution_count": 3,
   "metadata": {},
   "outputs": [
    {
     "name": "stdout",
     "output_type": "stream",
     "text": [
      "<class 'pandas.core.frame.DataFrame'>\n",
      "RangeIndex: 32315 entries, 0 to 32314\n",
      "Data columns (total 32 columns):\n",
      " #   Column                    Non-Null Count  Dtype  \n",
      "---  ------                    --------------  -----  \n",
      " 0   Unnamed: 0                32315 non-null  int64  \n",
      " 1   id                        32315 non-null  object \n",
      " 2   type                      32315 non-null  object \n",
      " 3   sectionName               32315 non-null  object \n",
      " 4   webPublicationDate        32315 non-null  object \n",
      " 5   webTitle                  32315 non-null  object \n",
      " 6   isHosted                  32315 non-null  bool   \n",
      " 7   pillarName                32142 non-null  object \n",
      " 8   headline                  32315 non-null  object \n",
      " 9   trailText                 32312 non-null  object \n",
      " 10  byline                    31436 non-null  object \n",
      " 11  newspaperPageNumber       16176 non-null  float64\n",
      " 12  wordcount                 32315 non-null  int64  \n",
      " 13  firstPublicationDate      32314 non-null  object \n",
      " 14  lastModified              32315 non-null  object \n",
      " 15  newspaperEditionDate      17051 non-null  object \n",
      " 16  productionOffice          32315 non-null  object \n",
      " 17  publication               32315 non-null  object \n",
      " 18  legallySensitive          32311 non-null  object \n",
      " 19  isLive                    32315 non-null  bool   \n",
      " 20  bodyText                  31772 non-null  object \n",
      " 21  liveBloggingNow           1140 non-null   object \n",
      " 22  sensitive                 1328 non-null   object \n",
      " 23  starRating                1474 non-null   float64\n",
      " 24  commentCloseDate          7439 non-null   object \n",
      " 25  commentable               8270 non-null   object \n",
      " 26  displayHint               808 non-null    object \n",
      " 27  contributorBio            7 non-null      object \n",
      " 28  scheduledPublicationDate  16 non-null     object \n",
      " 29  allowUgc                  1 non-null      object \n",
      " 30  tagWebTitle               32315 non-null  object \n",
      " 31  tagId                     32315 non-null  object \n",
      "dtypes: bool(2), float64(2), int64(2), object(26)\n",
      "memory usage: 7.5+ MB\n"
     ]
    }
   ],
   "source": [
    "articles = (\n",
    "    init_df\n",
    "        #.pipe(init_pipeline)\n",
    ")\n",
    "articles.info()"
   ]
  },
  {
   "cell_type": "code",
   "execution_count": 6,
   "metadata": {},
   "outputs": [
    {
     "data": {
      "text/plain": [
       "0        The Pine Needles Lodge and Golf Club has alway...\n",
       "1        The Duke and Duchess of Cambridge have tweeted...\n",
       "2        “How was that not a penalty?” asks Ciaran Bren...\n",
       "3        The rain was hard enough to wake the sleeping ...\n",
       "4        An adviser to the mayor of Mariupol has said t...\n",
       "                               ...                        \n",
       "33645    China has opened an embassy in Nicaragua for t...\n",
       "33646    The year ahead will be dominated by efforts to...\n",
       "33647    Britain’s small businesses should expect trade...\n",
       "33648                                                  NaN\n",
       "33649    The Guardian’s racing correspondent, Greg Wood...\n",
       "Name: bodyText, Length: 33650, dtype: object"
      ]
     },
     "execution_count": 6,
     "metadata": {},
     "output_type": "execute_result"
    }
   ],
   "source": [
    "articles.bodyText"
   ]
  },
  {
   "cell_type": "code",
   "execution_count": 8,
   "metadata": {},
   "outputs": [
    {
     "name": "stderr",
     "output_type": "stream",
     "text": [
      "None of PyTorch, TensorFlow >= 2.0, or Flax have been found. Models won't be available and only tokenizers, configuration and file/data utilities can be used.\n",
      "No model was supplied, defaulted to distilbert-base-uncased-finetuned-sst-2-english (https://huggingface.co/distilbert-base-uncased-finetuned-sst-2-english)\n"
     ]
    },
    {
     "ename": "RuntimeError",
     "evalue": "At least one of TensorFlow 2.0 or PyTorch should be installed. To install TensorFlow 2.0, read the instructions at https://www.tensorflow.org/install/ To install PyTorch, read the instructions at https://pytorch.org/.",
     "output_type": "error",
     "traceback": [
      "\u001b[0;31m---------------------------------------------------------------------------\u001b[0m",
      "\u001b[0;31mRuntimeError\u001b[0m                              Traceback (most recent call last)",
      "\u001b[1;32m/Users/simo/Home/WBS-Bootcamp/the-guardian-analysis/scripts/Api/test.ipynb Cell 5'\u001b[0m in \u001b[0;36m<cell line: 2>\u001b[0;34m()\u001b[0m\n\u001b[1;32m      <a href='vscode-notebook-cell:/Users/simo/Home/WBS-Bootcamp/the-guardian-analysis/scripts/Api/test.ipynb#ch0000004?line=0'>1</a>\u001b[0m \u001b[39mfrom\u001b[39;00m \u001b[39mtransformers\u001b[39;00m \u001b[39mimport\u001b[39;00m pipeline\n\u001b[0;32m----> <a href='vscode-notebook-cell:/Users/simo/Home/WBS-Bootcamp/the-guardian-analysis/scripts/Api/test.ipynb#ch0000004?line=1'>2</a>\u001b[0m classifier \u001b[39m=\u001b[39m pipeline(\u001b[39m\"\u001b[39;49m\u001b[39msentiment-analysis\u001b[39;49m\u001b[39m\"\u001b[39;49m)\n\u001b[1;32m      <a href='vscode-notebook-cell:/Users/simo/Home/WBS-Bootcamp/the-guardian-analysis/scripts/Api/test.ipynb#ch0000004?line=2'>3</a>\u001b[0m classifier(\u001b[39m\"\u001b[39m\u001b[39mI loved Star Wars so much!\u001b[39m\u001b[39m\"\u001b[39m)\n",
      "File \u001b[0;32m/opt/anaconda3/lib/python3.9/site-packages/transformers/pipelines/__init__.py:549\u001b[0m, in \u001b[0;36mpipeline\u001b[0;34m(task, model, config, tokenizer, feature_extractor, framework, revision, use_fast, use_auth_token, model_kwargs, pipeline_class, **kwargs)\u001b[0m\n\u001b[1;32m    <a href='file:///opt/anaconda3/lib/python3.9/site-packages/transformers/pipelines/__init__.py?line=544'>545</a>\u001b[0m \u001b[39m# Infer the framework from the model\u001b[39;00m\n\u001b[1;32m    <a href='file:///opt/anaconda3/lib/python3.9/site-packages/transformers/pipelines/__init__.py?line=545'>546</a>\u001b[0m \u001b[39m# Forced if framework already defined, inferred if it's None\u001b[39;00m\n\u001b[1;32m    <a href='file:///opt/anaconda3/lib/python3.9/site-packages/transformers/pipelines/__init__.py?line=546'>547</a>\u001b[0m \u001b[39m# Will load the correct model if possible\u001b[39;00m\n\u001b[1;32m    <a href='file:///opt/anaconda3/lib/python3.9/site-packages/transformers/pipelines/__init__.py?line=547'>548</a>\u001b[0m model_classes \u001b[39m=\u001b[39m {\u001b[39m\"\u001b[39m\u001b[39mtf\u001b[39m\u001b[39m\"\u001b[39m: targeted_task[\u001b[39m\"\u001b[39m\u001b[39mtf\u001b[39m\u001b[39m\"\u001b[39m], \u001b[39m\"\u001b[39m\u001b[39mpt\u001b[39m\u001b[39m\"\u001b[39m: targeted_task[\u001b[39m\"\u001b[39m\u001b[39mpt\u001b[39m\u001b[39m\"\u001b[39m]}\n\u001b[0;32m--> <a href='file:///opt/anaconda3/lib/python3.9/site-packages/transformers/pipelines/__init__.py?line=548'>549</a>\u001b[0m framework, model \u001b[39m=\u001b[39m infer_framework_load_model(\n\u001b[1;32m    <a href='file:///opt/anaconda3/lib/python3.9/site-packages/transformers/pipelines/__init__.py?line=549'>550</a>\u001b[0m     model,\n\u001b[1;32m    <a href='file:///opt/anaconda3/lib/python3.9/site-packages/transformers/pipelines/__init__.py?line=550'>551</a>\u001b[0m     model_classes\u001b[39m=\u001b[39;49mmodel_classes,\n\u001b[1;32m    <a href='file:///opt/anaconda3/lib/python3.9/site-packages/transformers/pipelines/__init__.py?line=551'>552</a>\u001b[0m     config\u001b[39m=\u001b[39;49mconfig,\n\u001b[1;32m    <a href='file:///opt/anaconda3/lib/python3.9/site-packages/transformers/pipelines/__init__.py?line=552'>553</a>\u001b[0m     framework\u001b[39m=\u001b[39;49mframework,\n\u001b[1;32m    <a href='file:///opt/anaconda3/lib/python3.9/site-packages/transformers/pipelines/__init__.py?line=553'>554</a>\u001b[0m     revision\u001b[39m=\u001b[39;49mrevision,\n\u001b[1;32m    <a href='file:///opt/anaconda3/lib/python3.9/site-packages/transformers/pipelines/__init__.py?line=554'>555</a>\u001b[0m     task\u001b[39m=\u001b[39;49mtask,\n\u001b[1;32m    <a href='file:///opt/anaconda3/lib/python3.9/site-packages/transformers/pipelines/__init__.py?line=555'>556</a>\u001b[0m     \u001b[39m*\u001b[39;49m\u001b[39m*\u001b[39;49mmodel_kwargs,\n\u001b[1;32m    <a href='file:///opt/anaconda3/lib/python3.9/site-packages/transformers/pipelines/__init__.py?line=556'>557</a>\u001b[0m )\n\u001b[1;32m    <a href='file:///opt/anaconda3/lib/python3.9/site-packages/transformers/pipelines/__init__.py?line=558'>559</a>\u001b[0m model_config \u001b[39m=\u001b[39m model\u001b[39m.\u001b[39mconfig\n\u001b[1;32m    <a href='file:///opt/anaconda3/lib/python3.9/site-packages/transformers/pipelines/__init__.py?line=560'>561</a>\u001b[0m load_tokenizer \u001b[39m=\u001b[39m \u001b[39mtype\u001b[39m(model_config) \u001b[39min\u001b[39;00m TOKENIZER_MAPPING \u001b[39mor\u001b[39;00m model_config\u001b[39m.\u001b[39mtokenizer_class \u001b[39mis\u001b[39;00m \u001b[39mnot\u001b[39;00m \u001b[39mNone\u001b[39;00m\n",
      "File \u001b[0;32m/opt/anaconda3/lib/python3.9/site-packages/transformers/pipelines/base.py:198\u001b[0m, in \u001b[0;36minfer_framework_load_model\u001b[0;34m(model, config, model_classes, task, framework, **model_kwargs)\u001b[0m\n\u001b[1;32m    <a href='file:///opt/anaconda3/lib/python3.9/site-packages/transformers/pipelines/base.py?line=171'>172</a>\u001b[0m \u001b[39m\"\"\"\u001b[39;00m\n\u001b[1;32m    <a href='file:///opt/anaconda3/lib/python3.9/site-packages/transformers/pipelines/base.py?line=172'>173</a>\u001b[0m \u001b[39mSelect framework (TensorFlow or PyTorch) to use from the `model` passed. Returns a tuple (framework, model).\u001b[39;00m\n\u001b[1;32m    <a href='file:///opt/anaconda3/lib/python3.9/site-packages/transformers/pipelines/base.py?line=173'>174</a>\u001b[0m \n\u001b[0;32m   (...)\u001b[0m\n\u001b[1;32m    <a href='file:///opt/anaconda3/lib/python3.9/site-packages/transformers/pipelines/base.py?line=194'>195</a>\u001b[0m \u001b[39m    `Tuple`: A tuple framework, model.\u001b[39;00m\n\u001b[1;32m    <a href='file:///opt/anaconda3/lib/python3.9/site-packages/transformers/pipelines/base.py?line=195'>196</a>\u001b[0m \u001b[39m\"\"\"\u001b[39;00m\n\u001b[1;32m    <a href='file:///opt/anaconda3/lib/python3.9/site-packages/transformers/pipelines/base.py?line=196'>197</a>\u001b[0m \u001b[39mif\u001b[39;00m \u001b[39mnot\u001b[39;00m is_tf_available() \u001b[39mand\u001b[39;00m \u001b[39mnot\u001b[39;00m is_torch_available():\n\u001b[0;32m--> <a href='file:///opt/anaconda3/lib/python3.9/site-packages/transformers/pipelines/base.py?line=197'>198</a>\u001b[0m     \u001b[39mraise\u001b[39;00m \u001b[39mRuntimeError\u001b[39;00m(\n\u001b[1;32m    <a href='file:///opt/anaconda3/lib/python3.9/site-packages/transformers/pipelines/base.py?line=198'>199</a>\u001b[0m         \u001b[39m\"\u001b[39m\u001b[39mAt least one of TensorFlow 2.0 or PyTorch should be installed. \u001b[39m\u001b[39m\"\u001b[39m\n\u001b[1;32m    <a href='file:///opt/anaconda3/lib/python3.9/site-packages/transformers/pipelines/base.py?line=199'>200</a>\u001b[0m         \u001b[39m\"\u001b[39m\u001b[39mTo install TensorFlow 2.0, read the instructions at https://www.tensorflow.org/install/ \u001b[39m\u001b[39m\"\u001b[39m\n\u001b[1;32m    <a href='file:///opt/anaconda3/lib/python3.9/site-packages/transformers/pipelines/base.py?line=200'>201</a>\u001b[0m         \u001b[39m\"\u001b[39m\u001b[39mTo install PyTorch, read the instructions at https://pytorch.org/.\u001b[39m\u001b[39m\"\u001b[39m\n\u001b[1;32m    <a href='file:///opt/anaconda3/lib/python3.9/site-packages/transformers/pipelines/base.py?line=201'>202</a>\u001b[0m     )\n\u001b[1;32m    <a href='file:///opt/anaconda3/lib/python3.9/site-packages/transformers/pipelines/base.py?line=202'>203</a>\u001b[0m \u001b[39mif\u001b[39;00m \u001b[39misinstance\u001b[39m(model, \u001b[39mstr\u001b[39m):\n\u001b[1;32m    <a href='file:///opt/anaconda3/lib/python3.9/site-packages/transformers/pipelines/base.py?line=203'>204</a>\u001b[0m     model_kwargs[\u001b[39m\"\u001b[39m\u001b[39m_from_pipeline\u001b[39m\u001b[39m\"\u001b[39m] \u001b[39m=\u001b[39m task\n",
      "\u001b[0;31mRuntimeError\u001b[0m: At least one of TensorFlow 2.0 or PyTorch should be installed. To install TensorFlow 2.0, read the instructions at https://www.tensorflow.org/install/ To install PyTorch, read the instructions at https://pytorch.org/."
     ]
    }
   ],
   "source": [
    "from transformers import pipeline\n",
    "classifier = pipeline(\"sentiment-analysis\")\n",
    "classifier(\"I loved Star Wars so much!\")\n",
    "##  [{'label': 'POSITIVE', 'score': 0.99}"
   ]
  },
  {
   "cell_type": "code",
   "execution_count": 9,
   "metadata": {},
   "outputs": [
    {
     "name": "stdout",
     "output_type": "stream",
     "text": [
      "Collecting tensorflow\n",
      "  Downloading tensorflow-2.9.1-cp39-cp39-macosx_10_14_x86_64.whl (228.5 MB)\n",
      "\u001b[2K     \u001b[91m━━━━━━━━\u001b[0m\u001b[91m╸\u001b[0m\u001b[90m━━━━━━━━━━━━━━━━━━━━━━━━━━━━━\u001b[0m \u001b[32m52.9/228.5 MB\u001b[0m \u001b[31m436.9 kB/s\u001b[0m eta \u001b[36m0:06:42\u001b[0m"
     ]
    }
   ],
   "source": [
    "!pip install tensorflow"
   ]
  },
  {
   "cell_type": "code",
   "execution_count": null,
   "metadata": {},
   "outputs": [],
   "source": []
  }
 ],
 "metadata": {
  "interpreter": {
   "hash": "40d3a090f54c6569ab1632332b64b2c03c39dcf918b08424e98f38b5ae0af88f"
  },
  "kernelspec": {
   "display_name": "Python 3.9.12 ('base')",
   "language": "python",
   "name": "python3"
  },
  "language_info": {
   "codemirror_mode": {
    "name": "ipython",
    "version": 3
   },
   "file_extension": ".py",
   "mimetype": "text/x-python",
   "name": "python",
   "nbconvert_exporter": "python",
   "pygments_lexer": "ipython3",
   "version": "3.9.12"
  },
  "orig_nbformat": 4
 },
 "nbformat": 4,
 "nbformat_minor": 2
}
