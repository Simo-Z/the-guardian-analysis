{
 "cells": [
  {
   "cell_type": "markdown",
   "metadata": {},
   "source": [
    "# Guardian - FROM 01.01.2022\n"
   ]
  },
  {
   "cell_type": "markdown",
   "metadata": {},
   "source": [
    "## Import Packages"
   ]
  },
  {
   "cell_type": "code",
   "execution_count": 32,
   "metadata": {},
   "outputs": [],
   "source": [
    "import pandas as pd\n",
    "import datetime as dt\n",
    "from dateutil.relativedelta import relativedelta\n",
    "import os\n",
    "from dotenv import load_dotenv\n",
    "\n",
    "from apiFunc import init_pipeline, unfold_columns\n",
    "from  apiParams import params\n",
    "from getDataFrame import get_df\n",
    "load_dotenv()\n",
    "content_url = \"https://content.guardianapis.com/search\""
   ]
  },
  {
   "cell_type": "markdown",
   "metadata": {},
   "source": [
    "# Settings"
   ]
  },
  {
   "cell_type": "code",
   "execution_count": 33,
   "metadata": {},
   "outputs": [],
   "source": [
    "sample_mode = True\n",
    "\n",
    "months_per_query = 3\n",
    "end_year = 2022\n"
   ]
  },
  {
   "cell_type": "markdown",
   "metadata": {},
   "source": [
    "## Set paramters\n"
   ]
  },
  {
   "cell_type": "code",
   "execution_count": 34,
   "metadata": {},
   "outputs": [],
   "source": [
    "timeDelta_months = relativedelta(months=+months_per_query)\n",
    "end_date = dt.datetime.strptime(str(end_year), \"%Y\")\n",
    "\n",
    "to_date = dt.datetime.now()\n",
    "from_date = to_date - timeDelta_months\n"
   ]
  },
  {
   "cell_type": "code",
   "execution_count": 35,
   "metadata": {},
   "outputs": [
    {
     "name": "stdout",
     "output_type": "stream",
     "text": [
      "End:  2022-01-01\n",
      "--------------------- Iteration: 1------------------------\n",
      "From: 2022-03-04\n",
      "To: 2022-06-04\n",
      "API_KEY_num 2\n",
      "\n",
      "---- API STATUS ---- \n",
      "status ok\n",
      "URL:  https://content.guardianapis.com/search?page-size=50&show-fields=all&show-elements=all&show-tags=all&show-rights=syndicatable&order-by=newest&api-key=7e9dff14-114c-40a2-bb71-a816ac25ee64&from-date=2022-03-04&to-date=2022-06-04&page=1\n",
      "status ok\n",
      "total 20171\n",
      "startIndex 1\n",
      "pageSize 50\n",
      "pages 404\n",
      "orderBy newest\n",
      "---- RUNTIME STATUS ---- \n",
      "(1/404) in 0:00:00.699613s\n",
      "50 articles with 14 cols saved\n",
      "--------------------- Iteration: 2------------------------\n",
      "From: 2021-12-04\n",
      "To: 2022-03-04\n",
      "API_KEY_num 3\n",
      "\n",
      "---- API STATUS ---- \n",
      "status ok\n",
      "URL:  https://content.guardianapis.com/search?page-size=50&show-fields=all&show-elements=all&show-tags=all&show-rights=syndicatable&order-by=newest&api-key=934fc87f-0792-4733-b5ed-59d5aa136db0&from-date=2021-12-04&to-date=2022-03-04&page=1\n",
      "status ok\n",
      "total 18901\n",
      "startIndex 1\n",
      "pageSize 50\n",
      "pages 379\n",
      "orderBy newest\n",
      "---- RUNTIME STATUS ---- \n",
      "(1/379) in 0:00:01.059292s\n",
      "50 articles with 14 cols saved\n"
     ]
    },
    {
     "data": {
      "text/plain": [
       "'Number of Iterations: 3'"
      ]
     },
     "execution_count": 35,
     "metadata": {},
     "output_type": "execute_result"
    }
   ],
   "source": [
    "n_iter = 1\n",
    "\n",
    "# Print End Date -- Minimum webPublicationDate\n",
    "print(\"End: \",end_date.strftime(\"%Y-%m-%d\"))\n",
    "# query over \n",
    "while to_date >= end_date:\n",
    "    to_date_str = to_date.strftime(\"%Y-%m-%d\") \n",
    "    from_date_str = from_date.strftime(\"%Y-%m-%d\") \n",
    "\n",
    "\n",
    "    print(f\"--------------------- Iteration: {n_iter}------------------------\")\n",
    "    api_key = os.getenv(f\"GUARDIAN_API_KEY{n_iter % months_per_query +1}\") \n",
    "    print(f\"From: {from_date_str}\")\n",
    "    print(f\"To: {to_date_str}\")\n",
    "    print(f\"API_KEY_num {n_iter % months_per_query +1}\")\n",
    "    print(\"\")\n",
    "\n",
    "\n",
    "    params[\"from-date\"] = from_date_str \n",
    "    params[\"to-date\"] = to_date_str\n",
    "    params[\"api-key\"] = api_key\n",
    "    \n",
    "    df = get_df(content_url, params, sample=sample_mode)\n",
    "    df.to_csv(f\"../../data/partial/articles_partial_{n_iter}.csv.zip\",compression=\"zip\", index=False)\n",
    "    print(f\"{df.shape[0]} articles with {df.shape[1]} cols saved\")\n",
    "\n",
    "    from_date -= timeDelta_months\n",
    "    to_date -= timeDelta_months\n",
    "    n_iter += 1\n",
    "\n",
    "str(f\"Number of Iterations: {n_iter}\")"
   ]
  },
  {
   "cell_type": "code",
   "execution_count": null,
   "metadata": {},
   "outputs": [],
   "source": []
  }
 ],
 "metadata": {
  "interpreter": {
   "hash": "40d3a090f54c6569ab1632332b64b2c03c39dcf918b08424e98f38b5ae0af88f"
  },
  "kernelspec": {
   "display_name": "Python 3.9.12 ('base')",
   "language": "python",
   "name": "python3"
  },
  "language_info": {
   "codemirror_mode": {
    "name": "ipython",
    "version": 3
   },
   "file_extension": ".py",
   "mimetype": "text/x-python",
   "name": "python",
   "nbconvert_exporter": "python",
   "pygments_lexer": "ipython3",
   "version": "3.9.12"
  },
  "orig_nbformat": 4
 },
 "nbformat": 4,
 "nbformat_minor": 2
}
