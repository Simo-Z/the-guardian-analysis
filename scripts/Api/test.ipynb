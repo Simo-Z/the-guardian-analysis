{
 "cells": [
  {
   "cell_type": "code",
   "execution_count": 30,
   "metadata": {},
   "outputs": [],
   "source": [
    "import pandas as pd\n",
    "from apiFunc import init_pipeline, unfold_columns"
   ]
  },
  {
   "cell_type": "code",
   "execution_count": 31,
   "metadata": {},
   "outputs": [
    {
     "name": "stdout",
     "output_type": "stream",
     "text": [
      "<class 'pandas.core.frame.DataFrame'>\n",
      "RangeIndex: 50 entries, 0 to 49\n",
      "Data columns (total 14 columns):\n",
      " #   Column              Non-Null Count  Dtype \n",
      "---  ------              --------------  ----- \n",
      " 0   id                  50 non-null     object\n",
      " 1   type                50 non-null     object\n",
      " 2   sectionId           50 non-null     object\n",
      " 3   sectionName         50 non-null     object\n",
      " 4   webPublicationDate  50 non-null     object\n",
      " 5   webTitle            50 non-null     object\n",
      " 6   webUrl              50 non-null     object\n",
      " 7   apiUrl              50 non-null     object\n",
      " 8   fields              50 non-null     object\n",
      " 9   tags                50 non-null     object\n",
      " 10  rights              50 non-null     object\n",
      " 11  isHosted            50 non-null     bool  \n",
      " 12  pillarId            50 non-null     object\n",
      " 13  pillarName          50 non-null     object\n",
      "dtypes: bool(1), object(13)\n",
      "memory usage: 5.3+ KB\n"
     ]
    }
   ],
   "source": [
    "init_df = pd.read_csv(\"../../data/partial/articles_partial_2.csv.zip\", compression=\"zip\")\n",
    "init_df.info()"
   ]
  },
  {
   "cell_type": "code",
   "execution_count": 32,
   "metadata": {},
   "outputs": [
    {
     "name": "stdout",
     "output_type": "stream",
     "text": [
      "init_pipeline:\n",
      " shape=(50, 14) took 0:00:00.000199s\n",
      "\n",
      "unfold_columns:\n",
      " shape=(50, 13) took 0:00:00.031309s\n",
      "\n",
      "<class 'pandas.core.frame.DataFrame'>\n",
      "RangeIndex: 50 entries, 0 to 49\n",
      "Data columns (total 13 columns):\n",
      " #   Column              Non-Null Count  Dtype \n",
      "---  ------              --------------  ----- \n",
      " 0   id                  50 non-null     object\n",
      " 1   type                50 non-null     object\n",
      " 2   sectionId           50 non-null     object\n",
      " 3   sectionName         50 non-null     object\n",
      " 4   webPublicationDate  50 non-null     object\n",
      " 5   webTitle            50 non-null     object\n",
      " 6   webUrl              50 non-null     object\n",
      " 7   apiUrl              50 non-null     object\n",
      " 8   isHosted            50 non-null     bool  \n",
      " 9   pillarId            50 non-null     object\n",
      " 10  pillarName          50 non-null     object\n",
      " 11  tagWebTitle         50 non-null     object\n",
      " 12  tagId               50 non-null     object\n",
      "dtypes: bool(1), object(12)\n",
      "memory usage: 4.9+ KB\n"
     ]
    }
   ],
   "source": [
    "articles = (\n",
    "    init_df\n",
    "        .pipe(init_pipeline)\n",
    "        .pipe(unfold_columns, env=True)\n",
    ")\n",
    "articles.info()"
   ]
  },
  {
   "cell_type": "code",
   "execution_count": 33,
   "metadata": {},
   "outputs": [
    {
     "name": "stdout",
     "output_type": "stream",
     "text": [
      "<class 'pandas.core.frame.DataFrame'>\n",
      "RangeIndex: 50 entries, 0 to 49\n",
      "Data columns (total 13 columns):\n",
      " #   Column              Non-Null Count  Dtype \n",
      "---  ------              --------------  ----- \n",
      " 0   id                  50 non-null     object\n",
      " 1   type                50 non-null     object\n",
      " 2   sectionId           50 non-null     object\n",
      " 3   sectionName         50 non-null     object\n",
      " 4   webPublicationDate  50 non-null     object\n",
      " 5   webTitle            50 non-null     object\n",
      " 6   webUrl              50 non-null     object\n",
      " 7   apiUrl              50 non-null     object\n",
      " 8   isHosted            50 non-null     bool  \n",
      " 9   pillarId            50 non-null     object\n",
      " 10  pillarName          50 non-null     object\n",
      " 11  tagWebTitle         50 non-null     object\n",
      " 12  tagId               50 non-null     object\n",
      "dtypes: bool(1), object(12)\n",
      "memory usage: 4.9+ KB\n"
     ]
    }
   ],
   "source": [
    "articles.info()"
   ]
  },
  {
   "cell_type": "code",
   "execution_count": null,
   "metadata": {},
   "outputs": [],
   "source": []
  }
 ],
 "metadata": {
  "interpreter": {
   "hash": "40d3a090f54c6569ab1632332b64b2c03c39dcf918b08424e98f38b5ae0af88f"
  },
  "kernelspec": {
   "display_name": "Python 3.9.12 ('base')",
   "language": "python",
   "name": "python3"
  },
  "language_info": {
   "codemirror_mode": {
    "name": "ipython",
    "version": 3
   },
   "file_extension": ".py",
   "mimetype": "text/x-python",
   "name": "python",
   "nbconvert_exporter": "python",
   "pygments_lexer": "ipython3",
   "version": "3.9.12"
  },
  "orig_nbformat": 4
 },
 "nbformat": 4,
 "nbformat_minor": 2
}
