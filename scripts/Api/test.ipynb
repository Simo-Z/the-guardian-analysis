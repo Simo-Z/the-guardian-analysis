{
 "cells": [
  {
   "cell_type": "code",
   "execution_count": 1,
   "metadata": {},
   "outputs": [],
   "source": [
    "import pandas as pd"
   ]
  },
  {
   "cell_type": "code",
   "execution_count": 5,
   "metadata": {},
   "outputs": [],
   "source": [
    "test1 = pd.read_csv(\"../../data/partial/G_2000.csv.zip\", compression=\"zip\")\n",
    "test2 = pd.read_csv(\"../../data/partial/G_1000.csv.zip\", compression=\"zip\")"
   ]
  },
  {
   "cell_type": "code",
   "execution_count": 6,
   "metadata": {},
   "outputs": [
    {
     "name": "stdout",
     "output_type": "stream",
     "text": [
      "<class 'pandas.core.frame.DataFrame'>\n",
      "Index: 0 entries\n",
      "Data columns (total 1 columns):\n",
      " #   Column      Non-Null Count  Dtype \n",
      "---  ------      --------------  ----- \n",
      " 0   Unnamed: 0  0 non-null      object\n",
      "dtypes: object(1)\n",
      "memory usage: 0.0+ bytes\n"
     ]
    }
   ],
   "source": [
    "test1.info()"
   ]
  },
  {
   "cell_type": "code",
   "execution_count": 7,
   "metadata": {},
   "outputs": [
    {
     "name": "stdout",
     "output_type": "stream",
     "text": [
      "<class 'pandas.core.frame.DataFrame'>\n",
      "RangeIndex: 38000 entries, 0 to 37999\n",
      "Data columns (total 18 columns):\n",
      " #   Column              Non-Null Count  Dtype \n",
      "---  ------              --------------  ----- \n",
      " 0   Unnamed: 0          38000 non-null  int64 \n",
      " 1   id                  38000 non-null  object\n",
      " 2   type                38000 non-null  object\n",
      " 3   sectionId           38000 non-null  object\n",
      " 4   sectionName         38000 non-null  object\n",
      " 5   webPublicationDate  38000 non-null  object\n",
      " 6   webTitle            38000 non-null  object\n",
      " 7   webUrl              38000 non-null  object\n",
      " 8   apiUrl              38000 non-null  object\n",
      " 9   fields              38000 non-null  object\n",
      " 10  tags                38000 non-null  object\n",
      " 11  references          38000 non-null  object\n",
      " 12  blocks              38000 non-null  object\n",
      " 13  rights              38000 non-null  object\n",
      " 14  section             37980 non-null  object\n",
      " 15  isHosted            38000 non-null  bool  \n",
      " 16  pillarId            37717 non-null  object\n",
      " 17  pillarName          37717 non-null  object\n",
      "dtypes: bool(1), int64(1), object(16)\n",
      "memory usage: 5.0+ MB\n"
     ]
    }
   ],
   "source": [
    "test2.info()"
   ]
  },
  {
   "cell_type": "code",
   "execution_count": null,
   "metadata": {},
   "outputs": [],
   "source": []
  }
 ],
 "metadata": {
  "interpreter": {
   "hash": "40d3a090f54c6569ab1632332b64b2c03c39dcf918b08424e98f38b5ae0af88f"
  },
  "kernelspec": {
   "display_name": "Python 3.9.12 ('base')",
   "language": "python",
   "name": "python3"
  },
  "language_info": {
   "codemirror_mode": {
    "name": "ipython",
    "version": 3
   },
   "file_extension": ".py",
   "mimetype": "text/x-python",
   "name": "python",
   "nbconvert_exporter": "python",
   "pygments_lexer": "ipython3",
   "version": "3.9.12"
  },
  "orig_nbformat": 4
 },
 "nbformat": 4,
 "nbformat_minor": 2
}
